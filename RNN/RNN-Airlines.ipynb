{
 "cells": [
  {
   "cell_type": "code",
   "execution_count": 24,
   "metadata": {},
   "outputs": [],
   "source": [
    "from pandas import read_csv\n",
    "import numpy as np"
   ]
  },
  {
   "cell_type": "code",
   "execution_count": 4,
   "metadata": {},
   "outputs": [],
   "source": [
    "df = read_csv('international-airline-passengers.csv',usecols=[1])"
   ]
  },
  {
   "cell_type": "code",
   "execution_count": 99,
   "metadata": {},
   "outputs": [
    {
     "data": {
      "text/html": [
       "<div>\n",
       "<style scoped>\n",
       "    .dataframe tbody tr th:only-of-type {\n",
       "        vertical-align: middle;\n",
       "    }\n",
       "\n",
       "    .dataframe tbody tr th {\n",
       "        vertical-align: top;\n",
       "    }\n",
       "\n",
       "    .dataframe thead th {\n",
       "        text-align: right;\n",
       "    }\n",
       "</style>\n",
       "<table border=\"1\" class=\"dataframe\">\n",
       "  <thead>\n",
       "    <tr style=\"text-align: right;\">\n",
       "      <th></th>\n",
       "      <th>International airline passengers: monthly totals in thousands. Jan 49 ? Dec 60</th>\n",
       "    </tr>\n",
       "  </thead>\n",
       "  <tbody>\n",
       "    <tr>\n",
       "      <th>0</th>\n",
       "      <td>112</td>\n",
       "    </tr>\n",
       "    <tr>\n",
       "      <th>1</th>\n",
       "      <td>118</td>\n",
       "    </tr>\n",
       "    <tr>\n",
       "      <th>2</th>\n",
       "      <td>132</td>\n",
       "    </tr>\n",
       "    <tr>\n",
       "      <th>3</th>\n",
       "      <td>129</td>\n",
       "    </tr>\n",
       "    <tr>\n",
       "      <th>4</th>\n",
       "      <td>121</td>\n",
       "    </tr>\n",
       "    <tr>\n",
       "      <th>5</th>\n",
       "      <td>135</td>\n",
       "    </tr>\n",
       "    <tr>\n",
       "      <th>6</th>\n",
       "      <td>148</td>\n",
       "    </tr>\n",
       "    <tr>\n",
       "      <th>7</th>\n",
       "      <td>148</td>\n",
       "    </tr>\n",
       "    <tr>\n",
       "      <th>8</th>\n",
       "      <td>136</td>\n",
       "    </tr>\n",
       "    <tr>\n",
       "      <th>9</th>\n",
       "      <td>119</td>\n",
       "    </tr>\n",
       "    <tr>\n",
       "      <th>10</th>\n",
       "      <td>104</td>\n",
       "    </tr>\n",
       "    <tr>\n",
       "      <th>11</th>\n",
       "      <td>118</td>\n",
       "    </tr>\n",
       "    <tr>\n",
       "      <th>12</th>\n",
       "      <td>115</td>\n",
       "    </tr>\n",
       "    <tr>\n",
       "      <th>13</th>\n",
       "      <td>126</td>\n",
       "    </tr>\n",
       "    <tr>\n",
       "      <th>14</th>\n",
       "      <td>141</td>\n",
       "    </tr>\n",
       "    <tr>\n",
       "      <th>15</th>\n",
       "      <td>135</td>\n",
       "    </tr>\n",
       "    <tr>\n",
       "      <th>16</th>\n",
       "      <td>125</td>\n",
       "    </tr>\n",
       "    <tr>\n",
       "      <th>17</th>\n",
       "      <td>149</td>\n",
       "    </tr>\n",
       "    <tr>\n",
       "      <th>18</th>\n",
       "      <td>170</td>\n",
       "    </tr>\n",
       "    <tr>\n",
       "      <th>19</th>\n",
       "      <td>170</td>\n",
       "    </tr>\n",
       "    <tr>\n",
       "      <th>20</th>\n",
       "      <td>158</td>\n",
       "    </tr>\n",
       "    <tr>\n",
       "      <th>21</th>\n",
       "      <td>133</td>\n",
       "    </tr>\n",
       "    <tr>\n",
       "      <th>22</th>\n",
       "      <td>114</td>\n",
       "    </tr>\n",
       "    <tr>\n",
       "      <th>23</th>\n",
       "      <td>140</td>\n",
       "    </tr>\n",
       "    <tr>\n",
       "      <th>24</th>\n",
       "      <td>145</td>\n",
       "    </tr>\n",
       "    <tr>\n",
       "      <th>25</th>\n",
       "      <td>150</td>\n",
       "    </tr>\n",
       "    <tr>\n",
       "      <th>26</th>\n",
       "      <td>178</td>\n",
       "    </tr>\n",
       "    <tr>\n",
       "      <th>27</th>\n",
       "      <td>163</td>\n",
       "    </tr>\n",
       "    <tr>\n",
       "      <th>28</th>\n",
       "      <td>172</td>\n",
       "    </tr>\n",
       "    <tr>\n",
       "      <th>29</th>\n",
       "      <td>178</td>\n",
       "    </tr>\n",
       "    <tr>\n",
       "      <th>...</th>\n",
       "      <td>...</td>\n",
       "    </tr>\n",
       "    <tr>\n",
       "      <th>114</th>\n",
       "      <td>491</td>\n",
       "    </tr>\n",
       "    <tr>\n",
       "      <th>115</th>\n",
       "      <td>505</td>\n",
       "    </tr>\n",
       "    <tr>\n",
       "      <th>116</th>\n",
       "      <td>404</td>\n",
       "    </tr>\n",
       "    <tr>\n",
       "      <th>117</th>\n",
       "      <td>359</td>\n",
       "    </tr>\n",
       "    <tr>\n",
       "      <th>118</th>\n",
       "      <td>310</td>\n",
       "    </tr>\n",
       "    <tr>\n",
       "      <th>119</th>\n",
       "      <td>337</td>\n",
       "    </tr>\n",
       "    <tr>\n",
       "      <th>120</th>\n",
       "      <td>360</td>\n",
       "    </tr>\n",
       "    <tr>\n",
       "      <th>121</th>\n",
       "      <td>342</td>\n",
       "    </tr>\n",
       "    <tr>\n",
       "      <th>122</th>\n",
       "      <td>406</td>\n",
       "    </tr>\n",
       "    <tr>\n",
       "      <th>123</th>\n",
       "      <td>396</td>\n",
       "    </tr>\n",
       "    <tr>\n",
       "      <th>124</th>\n",
       "      <td>420</td>\n",
       "    </tr>\n",
       "    <tr>\n",
       "      <th>125</th>\n",
       "      <td>472</td>\n",
       "    </tr>\n",
       "    <tr>\n",
       "      <th>126</th>\n",
       "      <td>548</td>\n",
       "    </tr>\n",
       "    <tr>\n",
       "      <th>127</th>\n",
       "      <td>559</td>\n",
       "    </tr>\n",
       "    <tr>\n",
       "      <th>128</th>\n",
       "      <td>463</td>\n",
       "    </tr>\n",
       "    <tr>\n",
       "      <th>129</th>\n",
       "      <td>407</td>\n",
       "    </tr>\n",
       "    <tr>\n",
       "      <th>130</th>\n",
       "      <td>362</td>\n",
       "    </tr>\n",
       "    <tr>\n",
       "      <th>131</th>\n",
       "      <td>405</td>\n",
       "    </tr>\n",
       "    <tr>\n",
       "      <th>132</th>\n",
       "      <td>417</td>\n",
       "    </tr>\n",
       "    <tr>\n",
       "      <th>133</th>\n",
       "      <td>391</td>\n",
       "    </tr>\n",
       "    <tr>\n",
       "      <th>134</th>\n",
       "      <td>419</td>\n",
       "    </tr>\n",
       "    <tr>\n",
       "      <th>135</th>\n",
       "      <td>461</td>\n",
       "    </tr>\n",
       "    <tr>\n",
       "      <th>136</th>\n",
       "      <td>472</td>\n",
       "    </tr>\n",
       "    <tr>\n",
       "      <th>137</th>\n",
       "      <td>535</td>\n",
       "    </tr>\n",
       "    <tr>\n",
       "      <th>138</th>\n",
       "      <td>622</td>\n",
       "    </tr>\n",
       "    <tr>\n",
       "      <th>139</th>\n",
       "      <td>606</td>\n",
       "    </tr>\n",
       "    <tr>\n",
       "      <th>140</th>\n",
       "      <td>508</td>\n",
       "    </tr>\n",
       "    <tr>\n",
       "      <th>141</th>\n",
       "      <td>461</td>\n",
       "    </tr>\n",
       "    <tr>\n",
       "      <th>142</th>\n",
       "      <td>390</td>\n",
       "    </tr>\n",
       "    <tr>\n",
       "      <th>143</th>\n",
       "      <td>432</td>\n",
       "    </tr>\n",
       "  </tbody>\n",
       "</table>\n",
       "<p>144 rows × 1 columns</p>\n",
       "</div>"
      ],
      "text/plain": [
       "     International airline passengers: monthly totals in thousands. Jan 49 ? Dec 60\n",
       "0                                                  112                             \n",
       "1                                                  118                             \n",
       "2                                                  132                             \n",
       "3                                                  129                             \n",
       "4                                                  121                             \n",
       "5                                                  135                             \n",
       "6                                                  148                             \n",
       "7                                                  148                             \n",
       "8                                                  136                             \n",
       "9                                                  119                             \n",
       "10                                                 104                             \n",
       "11                                                 118                             \n",
       "12                                                 115                             \n",
       "13                                                 126                             \n",
       "14                                                 141                             \n",
       "15                                                 135                             \n",
       "16                                                 125                             \n",
       "17                                                 149                             \n",
       "18                                                 170                             \n",
       "19                                                 170                             \n",
       "20                                                 158                             \n",
       "21                                                 133                             \n",
       "22                                                 114                             \n",
       "23                                                 140                             \n",
       "24                                                 145                             \n",
       "25                                                 150                             \n",
       "26                                                 178                             \n",
       "27                                                 163                             \n",
       "28                                                 172                             \n",
       "29                                                 178                             \n",
       "..                                                 ...                             \n",
       "114                                                491                             \n",
       "115                                                505                             \n",
       "116                                                404                             \n",
       "117                                                359                             \n",
       "118                                                310                             \n",
       "119                                                337                             \n",
       "120                                                360                             \n",
       "121                                                342                             \n",
       "122                                                406                             \n",
       "123                                                396                             \n",
       "124                                                420                             \n",
       "125                                                472                             \n",
       "126                                                548                             \n",
       "127                                                559                             \n",
       "128                                                463                             \n",
       "129                                                407                             \n",
       "130                                                362                             \n",
       "131                                                405                             \n",
       "132                                                417                             \n",
       "133                                                391                             \n",
       "134                                                419                             \n",
       "135                                                461                             \n",
       "136                                                472                             \n",
       "137                                                535                             \n",
       "138                                                622                             \n",
       "139                                                606                             \n",
       "140                                                508                             \n",
       "141                                                461                             \n",
       "142                                                390                             \n",
       "143                                                432                             \n",
       "\n",
       "[144 rows x 1 columns]"
      ]
     },
     "execution_count": 99,
     "metadata": {},
     "output_type": "execute_result"
    }
   ],
   "source": [
    "df"
   ]
  },
  {
   "cell_type": "code",
   "execution_count": 8,
   "metadata": {},
   "outputs": [
    {
     "data": {
      "text/plain": [
       "(144, 1)"
      ]
     },
     "execution_count": 8,
     "metadata": {},
     "output_type": "execute_result"
    }
   ],
   "source": [
    "values = df.values\n",
    "values.shape"
   ]
  },
  {
   "cell_type": "code",
   "execution_count": 11,
   "metadata": {},
   "outputs": [
    {
     "data": {
      "text/plain": [
       "(96, 48)"
      ]
     },
     "execution_count": 11,
     "metadata": {},
     "output_type": "execute_result"
    }
   ],
   "source": [
    "train_size = int((values.shape[0]*0.67))\n",
    "test_size = values.shape[0]-train_size\n",
    "train_size,test_size"
   ]
  },
  {
   "cell_type": "code",
   "execution_count": 51,
   "metadata": {},
   "outputs": [],
   "source": [
    "train_data = values[0:train_size]\n",
    "test_data = values[train_size:]"
   ]
  },
  {
   "cell_type": "code",
   "execution_count": 52,
   "metadata": {},
   "outputs": [
    {
     "data": {
      "text/plain": [
       "((96, 1), (48, 1))"
      ]
     },
     "execution_count": 52,
     "metadata": {},
     "output_type": "execute_result"
    }
   ],
   "source": [
    "train_data.shape,test_data.shape"
   ]
  },
  {
   "cell_type": "code",
   "execution_count": 53,
   "metadata": {},
   "outputs": [
    {
     "name": "stderr",
     "output_type": "stream",
     "text": [
      "/home/tanishqsaluja/anaconda3/envs/py36/lib/python3.6/site-packages/sklearn/utils/validation.py:590: DataConversionWarning: Data with input dtype int64 was converted to float64 by MinMaxScaler.\n",
      "  warnings.warn(msg, DataConversionWarning)\n"
     ]
    }
   ],
   "source": [
    "from sklearn.preprocessing import MinMaxScaler\n",
    "scaler = MinMaxScaler()\n",
    "train_data = scaler.fit_transform(train_data)\n",
    "test_data = scaler.transform(test_data)"
   ]
  },
  {
   "cell_type": "code",
   "execution_count": 54,
   "metadata": {},
   "outputs": [
    {
     "data": {
      "text/plain": [
       "((96, 1), (48, 1))"
      ]
     },
     "execution_count": 54,
     "metadata": {},
     "output_type": "execute_result"
    }
   ],
   "source": [
    "train_data.shape,test_data.shape"
   ]
  },
  {
   "cell_type": "code",
   "execution_count": 55,
   "metadata": {},
   "outputs": [],
   "source": [
    "def create_dataset(data,k):\n",
    "    dataX,dataY=[],[]\n",
    "    for i in range(data.shape[0]-k):\n",
    "        x = data[i:i+k,0]\n",
    "        dataX.append(x)\n",
    "        y = data[i+k,0]\n",
    "        dataY.append(y)\n",
    "    return np.array(dataX),np.array(dataY)"
   ]
  },
  {
   "cell_type": "code",
   "execution_count": 56,
   "metadata": {},
   "outputs": [
    {
     "data": {
      "text/plain": [
       "numpy.ndarray"
      ]
     },
     "execution_count": 56,
     "metadata": {},
     "output_type": "execute_result"
    }
   ],
   "source": [
    "type(test_data)"
   ]
  },
  {
   "cell_type": "code",
   "execution_count": 57,
   "metadata": {},
   "outputs": [],
   "source": [
    "look_back = 12\n",
    "trainX, trainY = create_dataset(train_data,look_back)\n",
    "testX, testY = create_dataset(test_data,look_back)"
   ]
  },
  {
   "cell_type": "code",
   "execution_count": 58,
   "metadata": {},
   "outputs": [],
   "source": [
    "from keras.models import Sequential\n",
    "from keras.layers import SimpleRNN,Dense"
   ]
  },
  {
   "cell_type": "code",
   "execution_count": 87,
   "metadata": {},
   "outputs": [
    {
     "name": "stdout",
     "output_type": "stream",
     "text": [
      "Epoch 1/100\n",
      "84/84 [==============================] - 1s 7ms/step - loss: 0.2372\n",
      "Epoch 2/100\n",
      "84/84 [==============================] - 0s 3ms/step - loss: 0.0637\n",
      "Epoch 3/100\n",
      "84/84 [==============================] - 0s 3ms/step - loss: 0.0417\n",
      "Epoch 4/100\n",
      "84/84 [==============================] - 0s 3ms/step - loss: 0.0261\n",
      "Epoch 5/100\n",
      "84/84 [==============================] - 0s 3ms/step - loss: 0.0204\n",
      "Epoch 6/100\n",
      "84/84 [==============================] - 0s 4ms/step - loss: 0.0171\n",
      "Epoch 7/100\n",
      "84/84 [==============================] - 0s 4ms/step - loss: 0.0161\n",
      "Epoch 8/100\n",
      "84/84 [==============================] - 0s 3ms/step - loss: 0.0143\n",
      "Epoch 9/100\n",
      "84/84 [==============================] - 0s 3ms/step - loss: 0.0140\n",
      "Epoch 10/100\n",
      "84/84 [==============================] - 0s 3ms/step - loss: 0.0127\n",
      "Epoch 11/100\n",
      "84/84 [==============================] - 0s 3ms/step - loss: 0.0123\n",
      "Epoch 12/100\n",
      "84/84 [==============================] - 0s 3ms/step - loss: 0.0117\n",
      "Epoch 13/100\n",
      "84/84 [==============================] - 0s 3ms/step - loss: 0.0114\n",
      "Epoch 14/100\n",
      "84/84 [==============================] - 0s 3ms/step - loss: 0.0102\n",
      "Epoch 15/100\n",
      "84/84 [==============================] - 0s 3ms/step - loss: 0.0098\n",
      "Epoch 16/100\n",
      "84/84 [==============================] - 0s 3ms/step - loss: 0.0094\n",
      "Epoch 17/100\n",
      "84/84 [==============================] - 0s 3ms/step - loss: 0.0095\n",
      "Epoch 18/100\n",
      "84/84 [==============================] - 0s 3ms/step - loss: 0.0087\n",
      "Epoch 19/100\n",
      "84/84 [==============================] - 0s 3ms/step - loss: 0.0085\n",
      "Epoch 20/100\n",
      "84/84 [==============================] - 0s 3ms/step - loss: 0.0075\n",
      "Epoch 21/100\n",
      "84/84 [==============================] - 0s 3ms/step - loss: 0.0074\n",
      "Epoch 22/100\n",
      "84/84 [==============================] - 0s 3ms/step - loss: 0.0072\n",
      "Epoch 23/100\n",
      "84/84 [==============================] - 0s 4ms/step - loss: 0.0066\n",
      "Epoch 24/100\n",
      "84/84 [==============================] - 0s 4ms/step - loss: 0.0065\n",
      "Epoch 25/100\n",
      "84/84 [==============================] - 0s 3ms/step - loss: 0.0063\n",
      "Epoch 26/100\n",
      "84/84 [==============================] - 0s 3ms/step - loss: 0.0061\n",
      "Epoch 27/100\n",
      "84/84 [==============================] - 0s 3ms/step - loss: 0.0054\n",
      "Epoch 28/100\n",
      "84/84 [==============================] - 0s 3ms/step - loss: 0.0054\n",
      "Epoch 29/100\n",
      "84/84 [==============================] - 0s 4ms/step - loss: 0.0052\n",
      "Epoch 30/100\n",
      "84/84 [==============================] - 0s 4ms/step - loss: 0.0050\n",
      "Epoch 31/100\n",
      "84/84 [==============================] - 0s 3ms/step - loss: 0.0053\n",
      "Epoch 32/100\n",
      "84/84 [==============================] - 0s 3ms/step - loss: 0.0050\n",
      "Epoch 33/100\n",
      "84/84 [==============================] - 0s 3ms/step - loss: 0.0055\n",
      "Epoch 34/100\n",
      "84/84 [==============================] - 0s 3ms/step - loss: 0.0049\n",
      "Epoch 35/100\n",
      "84/84 [==============================] - 0s 4ms/step - loss: 0.0053\n",
      "Epoch 36/100\n",
      "84/84 [==============================] - 0s 3ms/step - loss: 0.0051\n",
      "Epoch 37/100\n",
      "84/84 [==============================] - 0s 3ms/step - loss: 0.0046\n",
      "Epoch 38/100\n",
      "84/84 [==============================] - 0s 3ms/step - loss: 0.0041\n",
      "Epoch 39/100\n",
      "84/84 [==============================] - 0s 3ms/step - loss: 0.0044\n",
      "Epoch 40/100\n",
      "84/84 [==============================] - 0s 3ms/step - loss: 0.0039\n",
      "Epoch 41/100\n",
      "84/84 [==============================] - 0s 2ms/step - loss: 0.0041\n",
      "Epoch 42/100\n",
      "84/84 [==============================] - 0s 3ms/step - loss: 0.0038\n",
      "Epoch 43/100\n",
      "84/84 [==============================] - 0s 3ms/step - loss: 0.0040\n",
      "Epoch 44/100\n",
      "84/84 [==============================] - 0s 3ms/step - loss: 0.0039\n",
      "Epoch 45/100\n",
      "84/84 [==============================] - 0s 3ms/step - loss: 0.0043\n",
      "Epoch 46/100\n",
      "84/84 [==============================] - 0s 3ms/step - loss: 0.0042\n",
      "Epoch 47/100\n",
      "84/84 [==============================] - 0s 3ms/step - loss: 0.0035\n",
      "Epoch 48/100\n",
      "84/84 [==============================] - 0s 3ms/step - loss: 0.0035\n",
      "Epoch 49/100\n",
      "84/84 [==============================] - 0s 3ms/step - loss: 0.0037\n",
      "Epoch 50/100\n",
      "84/84 [==============================] - 0s 3ms/step - loss: 0.0033\n",
      "Epoch 51/100\n",
      "84/84 [==============================] - 0s 3ms/step - loss: 0.0037\n",
      "Epoch 52/100\n",
      "84/84 [==============================] - 0s 3ms/step - loss: 0.0035\n",
      "Epoch 53/100\n",
      "84/84 [==============================] - 0s 3ms/step - loss: 0.0036\n",
      "Epoch 54/100\n",
      "84/84 [==============================] - 0s 3ms/step - loss: 0.0038\n",
      "Epoch 55/100\n",
      "84/84 [==============================] - 0s 3ms/step - loss: 0.0036\n",
      "Epoch 56/100\n",
      "84/84 [==============================] - 0s 3ms/step - loss: 0.0034\n",
      "Epoch 57/100\n",
      "84/84 [==============================] - 0s 3ms/step - loss: 0.0037\n",
      "Epoch 58/100\n",
      "84/84 [==============================] - 0s 3ms/step - loss: 0.0032\n",
      "Epoch 59/100\n",
      "84/84 [==============================] - 0s 3ms/step - loss: 0.0040\n",
      "Epoch 60/100\n",
      "84/84 [==============================] - 0s 3ms/step - loss: 0.0038\n",
      "Epoch 61/100\n",
      "84/84 [==============================] - 0s 3ms/step - loss: 0.0037\n",
      "Epoch 62/100\n",
      "84/84 [==============================] - 0s 3ms/step - loss: 0.0033\n",
      "Epoch 63/100\n",
      "84/84 [==============================] - 0s 3ms/step - loss: 0.0032\n",
      "Epoch 64/100\n",
      "84/84 [==============================] - 0s 3ms/step - loss: 0.0033\n",
      "Epoch 65/100\n",
      "84/84 [==============================] - 0s 3ms/step - loss: 0.0037\n",
      "Epoch 66/100\n",
      "84/84 [==============================] - 0s 3ms/step - loss: 0.0037\n",
      "Epoch 67/100\n",
      "84/84 [==============================] - 0s 3ms/step - loss: 0.0035\n",
      "Epoch 68/100\n",
      "84/84 [==============================] - 0s 3ms/step - loss: 0.0040\n",
      "Epoch 69/100\n",
      "84/84 [==============================] - 0s 3ms/step - loss: 0.0035\n",
      "Epoch 70/100\n",
      "84/84 [==============================] - 0s 3ms/step - loss: 0.0033\n",
      "Epoch 71/100\n",
      "84/84 [==============================] - 0s 3ms/step - loss: 0.0034\n",
      "Epoch 72/100\n",
      "84/84 [==============================] - 0s 3ms/step - loss: 0.0034\n",
      "Epoch 73/100\n",
      "84/84 [==============================] - 0s 3ms/step - loss: 0.0032\n",
      "Epoch 74/100\n",
      "84/84 [==============================] - 0s 3ms/step - loss: 0.0036\n",
      "Epoch 75/100\n",
      "84/84 [==============================] - 0s 3ms/step - loss: 0.0034\n",
      "Epoch 76/100\n",
      "84/84 [==============================] - 0s 3ms/step - loss: 0.0033\n",
      "Epoch 77/100\n",
      "84/84 [==============================] - 0s 3ms/step - loss: 0.0036\n",
      "Epoch 78/100\n",
      "84/84 [==============================] - 0s 4ms/step - loss: 0.0033\n",
      "Epoch 79/100\n",
      "84/84 [==============================] - 0s 4ms/step - loss: 0.0037\n",
      "Epoch 80/100\n",
      "84/84 [==============================] - 0s 4ms/step - loss: 0.0039\n",
      "Epoch 81/100\n",
      "84/84 [==============================] - 0s 3ms/step - loss: 0.0034\n",
      "Epoch 82/100\n",
      "84/84 [==============================] - 0s 4ms/step - loss: 0.0029\n",
      "Epoch 83/100\n",
      "84/84 [==============================] - 0s 3ms/step - loss: 0.0026\n",
      "Epoch 84/100\n",
      "84/84 [==============================] - 0s 3ms/step - loss: 0.0033\n",
      "Epoch 85/100\n",
      "84/84 [==============================] - 0s 3ms/step - loss: 0.0032\n",
      "Epoch 86/100\n",
      "84/84 [==============================] - 0s 4ms/step - loss: 0.0031\n",
      "Epoch 87/100\n",
      "84/84 [==============================] - 0s 4ms/step - loss: 0.0037\n",
      "Epoch 88/100\n",
      "84/84 [==============================] - 0s 4ms/step - loss: 0.0030\n",
      "Epoch 89/100\n",
      "84/84 [==============================] - 0s 3ms/step - loss: 0.0031\n",
      "Epoch 90/100\n",
      "84/84 [==============================] - 0s 3ms/step - loss: 0.0031\n",
      "Epoch 91/100\n",
      "84/84 [==============================] - 0s 4ms/step - loss: 0.0030\n",
      "Epoch 92/100\n",
      "84/84 [==============================] - 0s 4ms/step - loss: 0.0027\n",
      "Epoch 93/100\n",
      "84/84 [==============================] - 0s 4ms/step - loss: 0.0031\n",
      "Epoch 94/100\n",
      "84/84 [==============================] - 0s 5ms/step - loss: 0.0030\n",
      "Epoch 95/100\n",
      "84/84 [==============================] - 0s 4ms/step - loss: 0.0033\n",
      "Epoch 96/100\n",
      "84/84 [==============================] - 0s 4ms/step - loss: 0.0033\n",
      "Epoch 97/100\n",
      "84/84 [==============================] - 0s 3ms/step - loss: 0.0028\n",
      "Epoch 98/100\n",
      "84/84 [==============================] - 0s 4ms/step - loss: 0.0028\n",
      "Epoch 99/100\n",
      "84/84 [==============================] - 0s 4ms/step - loss: 0.0024\n",
      "Epoch 100/100\n",
      "84/84 [==============================] - 0s 3ms/step - loss: 0.0030\n"
     ]
    },
    {
     "data": {
      "text/plain": [
       "<keras.callbacks.History at 0x7faeef787588>"
      ]
     },
     "execution_count": 87,
     "metadata": {},
     "output_type": "execute_result"
    }
   ],
   "source": [
    "# By default the activation function used in RNN is tanh\n",
    "model = Sequential()\n",
    "model.add(SimpleRNN(4,input_shape=(look_back,1))) # input_shape is (look_back,num_of_features)\n",
    "model.add(Dense(1))\n",
    "model.compile(loss='mean_squared_error',optimizer='adam')\n",
    "model.fit(trainX,trainY,epochs=100,batch_size=1)"
   ]
  },
  {
   "cell_type": "code",
   "execution_count": 89,
   "metadata": {},
   "outputs": [
    {
     "data": {
      "text/plain": [
       "(84, 12, 1)"
      ]
     },
     "execution_count": 89,
     "metadata": {},
     "output_type": "execute_result"
    }
   ],
   "source": [
    "trainX.shape"
   ]
  },
  {
   "cell_type": "code",
   "execution_count": 90,
   "metadata": {},
   "outputs": [],
   "source": [
    "# The shape of training data is [#Number of training data points,Length of time frame,#Number of features in each time frame] "
   ]
  },
  {
   "cell_type": "code",
   "execution_count": 91,
   "metadata": {},
   "outputs": [],
   "source": [
    "trainX = np.reshape(trainX,(trainX.shape[0],trainX.shape[1],1))\n",
    "testX = np.reshape(testX,(testX.shape[0],testX.shape[1],1))"
   ]
  },
  {
   "cell_type": "code",
   "execution_count": 98,
   "metadata": {},
   "outputs": [
    {
     "data": {
      "text/plain": [
       "(84, 12, 1)"
      ]
     },
     "execution_count": 98,
     "metadata": {},
     "output_type": "execute_result"
    }
   ],
   "source": [
    "trainX.shape # Correct data format for model.fit()"
   ]
  },
  {
   "cell_type": "code",
   "execution_count": 93,
   "metadata": {},
   "outputs": [
    {
     "data": {
      "text/plain": [
       "(84,)"
      ]
     },
     "execution_count": 93,
     "metadata": {},
     "output_type": "execute_result"
    }
   ],
   "source": [
    "trainY.shape"
   ]
  },
  {
   "cell_type": "code",
   "execution_count": 94,
   "metadata": {},
   "outputs": [
    {
     "data": {
      "text/plain": [
       "((36,), (36,))"
      ]
     },
     "execution_count": 94,
     "metadata": {},
     "output_type": "execute_result"
    }
   ],
   "source": [
    "test_predict = model.predict(testX)\n",
    "test_predict = scaler.inverse_transform(test_predict).ravel()\n",
    "\n",
    "train_predict = model.predict(trainX)\n",
    "train_predict = scaler.inverse_transform(train_predict).ravel()\n",
    "\n",
    "train_true = scaler.inverse_transform([trainY]).ravel()\n",
    "test_true = scaler.inverse_transform([testY]).ravel()\n",
    "\n",
    "test_predict.shape,test_true.shape"
   ]
  },
  {
   "cell_type": "code",
   "execution_count": 95,
   "metadata": {},
   "outputs": [
    {
     "data": {
      "text/plain": [
       "[<matplotlib.lines.Line2D at 0x7faeef677898>]"
      ]
     },
     "execution_count": 95,
     "metadata": {},
     "output_type": "execute_result"
    },
    {
     "data": {
      "image/png": "[encoded data removed]",
      "text/plain": [
       "<Figure size 432x288 with 1 Axes>"
      ]
     },
     "metadata": {
      "needs_background": "light"
     },
     "output_type": "display_data"
    }
   ],
   "source": [
    "import matplotlib.pyplot as plt\n",
    "plt.plot(train_true,c='g')\n",
    "plt.plot(train_predict,c='r')"
   ]
  },
  {
   "cell_type": "code",
   "execution_count": 96,
   "metadata": {},
   "outputs": [
    {
     "data": {
      "text/plain": [
       "[<matplotlib.lines.Line2D at 0x7faeef0c8da0>]"
      ]
     },
     "execution_count": 96,
     "metadata": {},
     "output_type": "execute_result"
    },
    {
     "data": {
      "image/png": "[encoded data removed]",
      "text/plain": [
       "<Figure size 432x288 with 1 Axes>"
      ]
     },
     "metadata": {
      "needs_background": "light"
     },
     "output_type": "display_data"
    }
   ],
   "source": [
    "plt.plot(test_true,c='g')\n",
    "plt.plot(test_predict,c='r')"
   ]
  },
  {
   "cell_type": "code",
   "execution_count": 97,
   "metadata": {},
   "outputs": [
    {
     "data": {
      "text/plain": [
       "[<matplotlib.lines.Line2D at 0x7faeeefe4cf8>]"
      ]
     },
     "execution_count": 97,
     "metadata": {},
     "output_type": "execute_result"
    },
    {
     "data": {
      "image/png": "[encoded data removed]",
      "text/plain": [
       "<Figure size 432x288 with 1 Axes>"
      ]
     },
     "metadata": {
      "needs_background": "light"
     },
     "output_type": "display_data"
    }
   ],
   "source": [
    "combinedPredicted = np.concatenate((train_true,test_true))\n",
    "plt.plot(combinedPredicted,c='g')\n",
    "combinedTrue = np.concatenate((train_predict,test_predict))\n",
    "plt.plot(combinedTrue,c='r')"
   ]
  },
  {
   "cell_type": "code",
   "execution_count": null,
   "metadata": {},
   "outputs": [],
   "source": []
  },
  {
   "cell_type": "code",
   "execution_count": null,
   "metadata": {},
   "outputs": [],
   "source": []
  },
  {
   "cell_type": "code",
   "execution_count": null,
   "metadata": {},
   "outputs": [],
   "source": []
  },
  {
   "cell_type": "code",
   "execution_count": null,
   "metadata": {},
   "outputs": [],
   "source": []
  },
  {
   "cell_type": "code",
   "execution_count": null,
   "metadata": {},
   "outputs": [],
   "source": []
  },
  {
   "cell_type": "code",
   "execution_count": null,
   "metadata": {},
   "outputs": [],
   "source": []
  },
  {
   "cell_type": "code",
   "execution_count": null,
   "metadata": {},
   "outputs": [],
   "source": []
  },
  {
   "cell_type": "code",
   "execution_count": null,
   "metadata": {},
   "outputs": [],
   "source": []
  },
  {
   "cell_type": "code",
   "execution_count": null,
   "metadata": {},
   "outputs": [],
   "source": []
  },
  {
   "cell_type": "code",
   "execution_count": null,
   "metadata": {},
   "outputs": [],
   "source": []
  },
  {
   "cell_type": "code",
   "execution_count": null,
   "metadata": {},
   "outputs": [],
   "source": []
  },
  {
   "cell_type": "code",
   "execution_count": null,
   "metadata": {},
   "outputs": [],
   "source": []
  },
  {
   "cell_type": "code",
   "execution_count": null,
   "metadata": {},
   "outputs": [],
   "source": []
  }
 ],
 "metadata": {
  "kernelspec": {
   "display_name": "Python 3",
   "language": "python",
   "name": "python3"
  },
  "language_info": {
   "codemirror_mode": {
    "name": "ipython",
    "version": 3
   },
   "file_extension": ".py",
   "mimetype": "text/x-python",
   "name": "python",
   "nbconvert_exporter": "python",
   "pygments_lexer": "ipython3",
   "version": "3.6.6"
  }
 },
 "nbformat": 4,
 "nbformat_minor": 2
}
