{
 "cells": [
  {
   "cell_type": "code",
   "execution_count": 4,
   "metadata": {},
   "outputs": [],
   "source": [
    "from keras.models import Sequential\n",
    "from keras.layers import Dense"
   ]
  },
  {
   "cell_type": "code",
   "execution_count": 29,
   "metadata": {},
   "outputs": [],
   "source": [
    "# Creating a model\n",
    "model = Sequential()"
   ]
  },
  {
   "cell_type": "markdown",
   "metadata": {},
   "source": [
    "## Adding the layers"
   ]
  },
  {
   "cell_type": "code",
   "execution_count": 30,
   "metadata": {},
   "outputs": [],
   "source": [
    "# These layers are called a dense layer\n",
    "layer1 = Dense(units=32,activation='relu',input_dim=30)\n",
    "# For the first layer , you need to define input_dim i.e the number of input features\n",
    "model.add(layer1)\n",
    "model.add(Dense(units=16,activation='relu'))\n",
    "model.add(Dense(units=1,activation='sigmoid'))\n",
    "# Choose the right activation function"
   ]
  },
  {
   "cell_type": "markdown",
   "metadata": {},
   "source": [
    "## Compiling"
   ]
  },
  {
   "cell_type": "code",
   "execution_count": 32,
   "metadata": {},
   "outputs": [],
   "source": [
    "model.compile(optimizer='adam',loss='binary_crossentropy',metrics=['accuracy'])\n",
    "# Choose the right optimizer and loss function"
   ]
  },
  {
   "cell_type": "markdown",
   "metadata": {},
   "source": [
    "## Fit"
   ]
  },
  {
   "cell_type": "code",
   "execution_count": 33,
   "metadata": {},
   "outputs": [],
   "source": [
    "from sklearn import datasets\n",
    "cancer = datasets.load_breast_cancer()\n",
    "from sklearn.model_selection import train_test_split\n",
    "x_train,x_test,y_train,y_test = train_test_split(cancer.data, cancer.target, test_size = 0.2,random_state = 0)\n",
    "from sklearn.preprocessing import StandardScaler\n",
    "scaler = StandardScaler()\n",
    "x_train = scaler.fit_transform(x_train)\n",
    "x_test = scaler.transform(x_test)"
   ]
  },
  {
   "cell_type": "code",
   "execution_count": 34,
   "metadata": {},
   "outputs": [
    {
     "name": "stdout",
     "output_type": "stream",
     "text": [
      "Train on 455 samples, validate on 114 samples\n",
      "Epoch 1/25\n",
      "455/455 [==============================] - 3s 6ms/step - loss: 0.4119 - acc: 0.8989 - val_loss: 0.3470 - val_acc: 0.9386\n",
      "Epoch 2/25\n",
      "455/455 [==============================] - 0s 211us/step - loss: 0.2935 - acc: 0.9429 - val_loss: 0.2630 - val_acc: 0.9474\n",
      "Epoch 3/25\n",
      "455/455 [==============================] - 0s 72us/step - loss: 0.2182 - acc: 0.9582 - val_loss: 0.2118 - val_acc: 0.9474\n",
      "Epoch 4/25\n",
      "455/455 [==============================] - 0s 55us/step - loss: 0.1714 - acc: 0.9560 - val_loss: 0.1817 - val_acc: 0.9474\n",
      "Epoch 5/25\n",
      "455/455 [==============================] - 0s 65us/step - loss: 0.1417 - acc: 0.9648 - val_loss: 0.1627 - val_acc: 0.9386\n",
      "Epoch 6/25\n",
      "455/455 [==============================] - 0s 58us/step - loss: 0.1231 - acc: 0.9714 - val_loss: 0.1501 - val_acc: 0.9474\n",
      "Epoch 7/25\n",
      "455/455 [==============================] - 0s 46us/step - loss: 0.1098 - acc: 0.9714 - val_loss: 0.1415 - val_acc: 0.9474\n",
      "Epoch 8/25\n",
      "455/455 [==============================] - 0s 66us/step - loss: 0.1003 - acc: 0.9736 - val_loss: 0.1345 - val_acc: 0.9474\n",
      "Epoch 9/25\n",
      "455/455 [==============================] - 0s 52us/step - loss: 0.0927 - acc: 0.9758 - val_loss: 0.1291 - val_acc: 0.9649\n",
      "Epoch 10/25\n",
      "455/455 [==============================] - 0s 60us/step - loss: 0.0866 - acc: 0.9780 - val_loss: 0.1236 - val_acc: 0.9649\n",
      "Epoch 11/25\n",
      "455/455 [==============================] - 0s 61us/step - loss: 0.0815 - acc: 0.9780 - val_loss: 0.1188 - val_acc: 0.9649\n",
      "Epoch 12/25\n",
      "455/455 [==============================] - 0s 72us/step - loss: 0.0772 - acc: 0.9780 - val_loss: 0.1149 - val_acc: 0.9649\n",
      "Epoch 13/25\n",
      "455/455 [==============================] - 0s 58us/step - loss: 0.0731 - acc: 0.9802 - val_loss: 0.1136 - val_acc: 0.9649\n",
      "Epoch 14/25\n",
      "455/455 [==============================] - 0s 56us/step - loss: 0.0704 - acc: 0.9802 - val_loss: 0.1132 - val_acc: 0.9649\n",
      "Epoch 15/25\n",
      "455/455 [==============================] - 0s 51us/step - loss: 0.0674 - acc: 0.9824 - val_loss: 0.1130 - val_acc: 0.9649\n",
      "Epoch 16/25\n",
      "455/455 [==============================] - 0s 58us/step - loss: 0.0648 - acc: 0.9824 - val_loss: 0.1123 - val_acc: 0.9561\n",
      "Epoch 17/25\n",
      "455/455 [==============================] - 0s 53us/step - loss: 0.0621 - acc: 0.9846 - val_loss: 0.1114 - val_acc: 0.9561\n",
      "Epoch 18/25\n",
      "455/455 [==============================] - 0s 63us/step - loss: 0.0597 - acc: 0.9868 - val_loss: 0.1113 - val_acc: 0.9649\n",
      "Epoch 19/25\n",
      "455/455 [==============================] - 0s 58us/step - loss: 0.0586 - acc: 0.9868 - val_loss: 0.1109 - val_acc: 0.9649\n",
      "Epoch 20/25\n",
      "455/455 [==============================] - 0s 71us/step - loss: 0.0565 - acc: 0.9868 - val_loss: 0.1104 - val_acc: 0.9649\n",
      "Epoch 21/25\n",
      "455/455 [==============================] - 0s 52us/step - loss: 0.0558 - acc: 0.9868 - val_loss: 0.1109 - val_acc: 0.9649\n",
      "Epoch 22/25\n",
      "455/455 [==============================] - 0s 72us/step - loss: 0.0537 - acc: 0.9890 - val_loss: 0.1111 - val_acc: 0.9649\n",
      "Epoch 23/25\n",
      "455/455 [==============================] - 0s 55us/step - loss: 0.0521 - acc: 0.9868 - val_loss: 0.1108 - val_acc: 0.9649\n",
      "Epoch 24/25\n",
      "455/455 [==============================] - 0s 57us/step - loss: 0.0505 - acc: 0.9868 - val_loss: 0.1107 - val_acc: 0.9649\n",
      "Epoch 25/25\n",
      "455/455 [==============================] - 0s 66us/step - loss: 0.0489 - acc: 0.9890 - val_loss: 0.1106 - val_acc: 0.9649\n"
     ]
    },
    {
     "data": {
      "text/plain": [
       "<keras.callbacks.History at 0x7fc778b57080>"
      ]
     },
     "execution_count": 34,
     "metadata": {},
     "output_type": "execute_result"
    }
   ],
   "source": [
    "model.fit(x_train,y_train,epochs=25,batch_size=50,validation_data=(x_test,y_test))"
   ]
  },
  {
   "cell_type": "code",
   "execution_count": 38,
   "metadata": {},
   "outputs": [
    {
     "name": "stdout",
     "output_type": "stream",
     "text": [
      "114/114 [==============================] - 0s 74us/step\n"
     ]
    },
    {
     "data": {
      "text/plain": [
       "[0.11059171327373438, 0.9649122817474499]"
      ]
     },
     "execution_count": 38,
     "metadata": {},
     "output_type": "execute_result"
    }
   ],
   "source": [
    "predictions = model.predict(x_test)\n",
    "score = model.evaluate(x_test,y_test)\n",
    "score"
   ]
  },
  {
   "cell_type": "code",
   "execution_count": null,
   "metadata": {},
   "outputs": [],
   "source": []
  }
 ],
 "metadata": {
  "kernelspec": {
   "display_name": "Python 3",
   "language": "python",
   "name": "python3"
  },
  "language_info": {
   "codemirror_mode": {
    "name": "ipython",
    "version": 3
   },
   "file_extension": ".py",
   "mimetype": "text/x-python",
   "name": "python",
   "nbconvert_exporter": "python",
   "pygments_lexer": "ipython3",
   "version": "3.6.6"
  }
 },
 "nbformat": 4,
 "nbformat_minor": 2
}
