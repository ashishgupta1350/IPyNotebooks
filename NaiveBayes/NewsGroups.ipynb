{
 "cells": [
  {
   "cell_type": "code",
   "execution_count": 1,
   "metadata": {
    "scrolled": true
   },
   "outputs": [
    {
     "name": "stderr",
     "output_type": "stream",
     "text": [
      "/usr/local/lib/python3.6/importlib/_bootstrap.py:219: RuntimeWarning: numpy.dtype size changed, may indicate binary incompatibility. Expected 96, got 88\n",
      "  return f(*args, **kwds)\n",
      "/usr/local/lib/python3.6/importlib/_bootstrap.py:219: RuntimeWarning: numpy.dtype size changed, may indicate binary incompatibility. Expected 96, got 88\n",
      "  return f(*args, **kwds)\n"
     ]
    }
   ],
   "source": [
    "import numpy as np\n",
    "import pandas as pd\n",
    "import os"
   ]
  },
  {
   "cell_type": "markdown",
   "metadata": {},
   "source": [
    "### Making list of stop words , punctuation and some frequently occuring words which I observed"
   ]
  },
  {
   "cell_type": "code",
   "execution_count": 2,
   "metadata": {},
   "outputs": [],
   "source": [
    "from nltk.corpus import stopwords\n",
    "from string import punctuation\n",
    "stop_words=stopwords.words('english')\n",
    "punctuations=list(punctuation)\n",
    "stop_words+=punctuations"
   ]
  },
  {
   "cell_type": "code",
   "execution_count": 3,
   "metadata": {},
   "outputs": [],
   "source": [
    "Own_Stop_Words=['subject:', 'from:', 'date:', 'newsgroups:', 'message-id:', 'lines:', 'path:', 'apr', 'organization:',\n",
    " 'gmt', 'would', '1993', 're:', '--', 'writes:', 'one', 'references:', 'article', '|>', 'sender:', 'like', 'nntp-posting-host:',\n",
    " 'people', 'get', 'university', '93', 'know', '>>', 'think', 'may', 'use', 'also', 'x', 'new', 'xref:', 'cantaloupe.srv.cs.cmu.edu',\n",
    " 'could', \"i'm\",\"max>'ax>'ax>'ax>'ax>'ax>'ax>'ax>'ax>'ax>'ax>'ax>'ax>'ax>'ax>'\"]"
   ]
  },
  {
   "cell_type": "code",
   "execution_count": 4,
   "metadata": {},
   "outputs": [],
   "source": [
    "stop_words+=Own_Stop_Words"
   ]
  },
  {
   "cell_type": "markdown",
   "metadata": {},
   "source": [
    "### Making list of newsgroups"
   ]
  },
  {
   "cell_type": "code",
   "execution_count": 5,
   "metadata": {},
   "outputs": [],
   "source": [
    "folders=['alt.atheism' , 'comp.graphics' , 'comp.os.ms-windows.misc' , 'comp.sys.ibm.pc.hardware' ,\n",
    "            'comp.sys.mac.hardware' , 'comp.windows.x' , 'misc.forsale' , 'rec.autos' , 'rec.motorcycles' ,\n",
    "            'rec.sport.baseball' , 'rec.sport.hockey' , 'sci.crypt' , 'sci.electronics' , 'sci.med' ,\n",
    "            'sci.space' , 'soc.religion.christian' , 'talk.politics.guns' , 'talk.politics.mideast' , \n",
    "            'talk.politics.misc' , 'talk.religion.misc']"
   ]
  },
  {
   "cell_type": "code",
   "execution_count": 6,
   "metadata": {
    "scrolled": true
   },
   "outputs": [
    {
     "data": {
      "text/plain": [
       "'comp.os.ms-windows.misc'"
      ]
     },
     "execution_count": 6,
     "metadata": {},
     "output_type": "execute_result"
    }
   ],
   "source": [
    "folders[2]"
   ]
  },
  {
   "cell_type": "markdown",
   "metadata": {},
   "source": [
    "### Loading data into kernel "
   ]
  },
  {
   "cell_type": "code",
   "execution_count": 7,
   "metadata": {},
   "outputs": [],
   "source": [
    "DATA_DIR='20_newsgroups/'"
   ]
  },
  {
   "cell_type": "code",
   "execution_count": 8,
   "metadata": {},
   "outputs": [],
   "source": [
    "data={} # data is a dictionary of the form { subfolder : [text1,text2,....,text1000] }\n",
    "for subfolder in folders:\n",
    "    data[subfolder]=[]\n",
    "    files=os.listdir(os.path.join(DATA_DIR,subfolder))\n",
    "    for file in files:\n",
    "        with open(os.path.join(DATA_DIR,subfolder,file),encoding=\"ISO-8859-1\") as opened_file:\n",
    "            data[subfolder].append(opened_file.read())"
   ]
  },
  {
   "cell_type": "code",
   "execution_count": null,
   "metadata": {},
   "outputs": [],
   "source": [
    "# os.listdir('20_newsgroups/alt.atheism')"
   ]
  },
  {
   "cell_type": "code",
   "execution_count": null,
   "metadata": {
    "scrolled": true
   },
   "outputs": [],
   "source": [
    "len(data[folders[19]])"
   ]
  },
  {
   "cell_type": "code",
   "execution_count": 9,
   "metadata": {},
   "outputs": [],
   "source": [
    "# Create a dictionary of words with frequency\n",
    "vocab={}\n",
    "for i in range(len(data)): # for each newsgroup\n",
    "    for doc in data[folders[i]]: # for each item in the list of current newsgroup\n",
    "        # Split each document into words now\n",
    "        for word in doc.split(): # doc.split() will give us a list of words, we iterate over each word of that list \n",
    "            if word.lower() not in stop_words and len(word.lower()) >= 5:\n",
    "                if word.lower() not in vocab:\n",
    "                    vocab[word.lower()]=1\n",
    "                else:\n",
    "                    vocab[word.lower()]+=1"
   ]
  },
  {
   "cell_type": "code",
   "execution_count": 10,
   "metadata": {
    "scrolled": true
   },
   "outputs": [
    {
     "data": {
      "text/plain": [
       "1000"
      ]
     },
     "execution_count": 10,
     "metadata": {},
     "output_type": "execute_result"
    }
   ],
   "source": [
    "len(data[folders[0]])"
   ]
  },
  {
   "cell_type": "code",
   "execution_count": 11,
   "metadata": {},
   "outputs": [],
   "source": [
    "# Sort the dictionary based on values\n",
    "import operator\n",
    "sorted_vocab = sorted(vocab.items(), key=operator.itemgetter(1),reverse=True)"
   ]
  },
  {
   "cell_type": "code",
   "execution_count": 12,
   "metadata": {
    "scrolled": true
   },
   "outputs": [
    {
     "data": {
      "text/plain": [
       "390180"
      ]
     },
     "execution_count": 12,
     "metadata": {},
     "output_type": "execute_result"
    }
   ],
   "source": [
    "len(sorted_vocab)"
   ]
  },
  {
   "cell_type": "code",
   "execution_count": 18,
   "metadata": {},
   "outputs": [
    {
     "data": {
      "text/plain": [
       "2000"
      ]
     },
     "execution_count": 18,
     "metadata": {},
     "output_type": "execute_result"
    }
   ],
   "source": [
    "sorted_vocab_list=[]\n",
    "for pair in sorted_vocab:\n",
    "    sorted_vocab_list.append(pair[0])\n",
    "# Select top 2000 features from this document\n",
    "feature_list=sorted_vocab_list[0:2000]\n",
    "len(feature_list)"
   ]
  },
  {
   "cell_type": "code",
   "execution_count": 43,
   "metadata": {},
   "outputs": [
    {
     "data": {
      "text/plain": [
       "(19997,)"
      ]
     },
     "execution_count": 43,
     "metadata": {},
     "output_type": "execute_result"
    }
   ],
   "source": [
    "Y=[]\n",
    "docs=[]\n",
    "for subfolder in folders:\n",
    "    files=os.listdir(os.path.join(DATA_DIR,subfolder))\n",
    "    for file in files:\n",
    "        Y.append(subfolder)\n",
    "        with open(os.path.join(DATA_DIR,subfolder,file),encoding='latin-1') as opened_file:\n",
    "            docs.append(opened_file.read())\n",
    "len(Y) # religion file has 997 items while every other has 1000 items each\n",
    "Y=np.array(Y)\n",
    "Y.shape"
   ]
  },
  {
   "cell_type": "code",
   "execution_count": null,
   "metadata": {},
   "outputs": [],
   "source": [
    "X = np.zeros((len(docs),len(feature_list)))\n",
    "for row in range(len(docs)):\n",
    "    for word in docs[row]:\n",
    "        for feature in feature_list:\n",
    "            if word==feature:\n",
    "                X[row][feature]+=1"
   ]
  },
  {
   "cell_type": "code",
   "execution_count": 15,
   "metadata": {},
   "outputs": [],
   "source": []
  },
  {
   "cell_type": "code",
   "execution_count": 15,
   "metadata": {},
   "outputs": [],
   "source": []
  },
  {
   "cell_type": "markdown",
   "metadata": {},
   "source": [
    "## Implementing Multinomial NaiveBayes"
   ]
  },
  {
   "cell_type": "code",
   "execution_count": 45,
   "metadata": {},
   "outputs": [],
   "source": [
    "def fit(X_train,Y_train):\n",
    "    result={}\n",
    "    class_labels=set(Y_train)\n",
    "    result[\"total_data\"]=len(X_train)\n",
    "    for current_label in class_labels:\n",
    "        result[current_label]={}\n",
    "        current_rows=(Y_train==current_label)\n",
    "        x_train_current=X_train[current_rows]\n",
    "        y_train_current=Y_train[current_rows]\n",
    "        total_count=0\n",
    "        for j in len(feature_list):\n",
    "            result[current_label][feature_list[j]]=x_train_current[:,j].sum()\n",
    "            total_count+=x_train_current[:,j].sum()\n",
    "        result[\"total_count\"]=total_count\n",
    "    return result"
   ]
  },
  {
   "cell_type": "code",
   "execution_count": 50,
   "metadata": {},
   "outputs": [],
   "source": [
    "def probability(x,dictionary,current_class):\n",
    "    output=np.log(dictionary[current_class][\"total_count\"])-np.log(dictionary[\"total_data\"])\n",
    "    for i in range(feature_list):\n",
    "        current_word_count=dictionary[current_class][feature_list[i]]+1\n",
    "        total_word_count=dictionary[current_class][\"total_count\"]+len(feature_list)\n",
    "        current_word_probability=np.log(current_word_count)-np.log(total_word_count)\n",
    "        for j in range(int(row[i])): # if the frequency of word in test data point is zero then we wont consider it.\n",
    "            output+=current_word_probability\n",
    "    return output"
   ]
  },
  {
   "cell_type": "code",
   "execution_count": 47,
   "metadata": {},
   "outputs": [],
   "source": [
    "def predictSingleClass(x,dictionary):\n",
    "    best_class=-1000\n",
    "    best_prob=-1000\n",
    "    firstRun=True\n",
    "    possible_classes=len(dictionary.keys())-1\n",
    "    for current_class in possible_classes:\n",
    "        if current_class==\"total_data\":\n",
    "            continue\n",
    "        current_class_probability=probability(x,dictionary,current_class)\n",
    "        if(firstRun==True or current_class_probability>best_prob):\n",
    "            best_class=current_class\n",
    "            best_prob=current_class_probability\n",
    "        firstRun=False\n",
    "    return best_prob"
   ]
  },
  {
   "cell_type": "code",
   "execution_count": 46,
   "metadata": {},
   "outputs": [],
   "source": [
    "def predict(X_test,dictionary):\n",
    "    Y_pred=[]\n",
    "    for x in X_test:\n",
    "        Y_pred.append(predictSingleClass(x,dictionary))\n",
    "    return Y_pred"
   ]
  },
  {
   "cell_type": "code",
   "execution_count": null,
   "metadata": {},
   "outputs": [],
   "source": []
  },
  {
   "cell_type": "code",
   "execution_count": null,
   "metadata": {},
   "outputs": [],
   "source": []
  },
  {
   "cell_type": "code",
   "execution_count": null,
   "metadata": {},
   "outputs": [],
   "source": []
  },
  {
   "cell_type": "code",
   "execution_count": null,
   "metadata": {},
   "outputs": [],
   "source": []
  },
  {
   "cell_type": "code",
   "execution_count": null,
   "metadata": {},
   "outputs": [],
   "source": []
  }
 ],
 "metadata": {
  "kernelspec": {
   "display_name": "Python 3",
   "language": "python",
   "name": "python3"
  },
  "language_info": {
   "codemirror_mode": {
    "name": "ipython",
    "version": 3
   },
   "file_extension": ".py",
   "mimetype": "text/x-python",
   "name": "python",
   "nbconvert_exporter": "python",
   "pygments_lexer": "ipython3",
   "version": "3.6.5"
  }
 },
 "nbformat": 4,
 "nbformat_minor": 2
}
