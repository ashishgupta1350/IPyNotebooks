{
 "cells": [
  {
   "cell_type": "code",
   "execution_count": 1,
   "metadata": {},
   "outputs": [],
   "source": [
    "import tensorflow as tf"
   ]
  },
  {
   "cell_type": "markdown",
   "metadata": {},
   "source": [
    "## Constants"
   ]
  },
  {
   "cell_type": "code",
   "execution_count": 24,
   "metadata": {},
   "outputs": [
    {
     "data": {
      "text/plain": [
       "array([[18]], dtype=int32)"
      ]
     },
     "execution_count": 24,
     "metadata": {},
     "output_type": "execute_result"
    }
   ],
   "source": [
    "a=tf.constant(2)\n",
    "b=tf.constant(3)\n",
    "a,b # doesn't print a and b as 2 and 3\n",
    "c=a+b # doesn't print out the sum of a and b i.e 5\n",
    "session=tf.Session()\n",
    "session.run(c) # to get the value of either a b or c\n",
    "\n",
    "a1=tf.constant([[3,3]]) # 1 row with 2 cols\n",
    "a2=tf.constant([[3],[3]]) # 2 rows with 1 col only\n",
    "session.run(tf.matmul(a1,a2))"
   ]
  },
  {
   "cell_type": "code",
   "execution_count": 20,
   "metadata": {},
   "outputs": [
    {
     "data": {
      "text/plain": [
       "<tf.Tensor 'Const_35:0' shape=() dtype=int32>"
      ]
     },
     "execution_count": 20,
     "metadata": {},
     "output_type": "execute_result"
    }
   ],
   "source": [
    "x=tf.constant(1)\n",
    "x=tf.constant(2)\n",
    "x"
   ]
  },
  {
   "cell_type": "markdown",
   "metadata": {},
   "source": [
    "## Session"
   ]
  },
  {
   "cell_type": "code",
   "execution_count": 31,
   "metadata": {},
   "outputs": [
    {
     "name": "stdout",
     "output_type": "stream",
     "text": [
      "2\n",
      "3\n",
      "5\n"
     ]
    }
   ],
   "source": [
    "# We can evaluate tensor object only inside a session\n",
    "with tf.Session() as s:\n",
    "    print(a.eval())\n",
    "    print(b.eval())\n",
    "    print(c.eval())"
   ]
  },
  {
   "cell_type": "code",
   "execution_count": 28,
   "metadata": {},
   "outputs": [],
   "source": [
    "a = tf.constant(2)\n",
    "b = tf.constant(3)\n",
    "c = tf.add(a, b)\n",
    "# print(c.eval()) ! DOESN'T WORK\n",
    "\n",
    "# Explanation : default session is required to be assigned for eval() to work , like eval(session=sess)"
   ]
  },
  {
   "cell_type": "markdown",
   "metadata": {},
   "source": [
    "## Variables"
   ]
  },
  {
   "cell_type": "code",
   "execution_count": 40,
   "metadata": {},
   "outputs": [
    {
     "name": "stdout",
     "output_type": "stream",
     "text": [
      "103\n",
      "203\n"
     ]
    }
   ],
   "source": [
    "var1=tf.Variable(100)\n",
    "var2=tf.Variable(3)\n",
    "sum=tf.add(var1,var2)\n",
    "session=tf.Session()\n",
    "# session.run(sum) ! DOESN'T WORK\n",
    "# Error :  Attempting to use uninitialized value Variable_1\n",
    "# Therefore , first you need to initialize the varibles in a session\n",
    "session.run(tf.global_variables_initializer())\n",
    "print(session.run(sum))\n",
    "session.run(var1.assign(200))\n",
    "print(session.run(sum))"
   ]
  },
  {
   "cell_type": "code",
   "execution_count": 42,
   "metadata": {},
   "outputs": [
    {
     "data": {
      "text/plain": [
       "12"
      ]
     },
     "execution_count": 42,
     "metadata": {},
     "output_type": "execute_result"
    }
   ],
   "source": [
    "var1 = tf.Variable(100)\n",
    "sess= tf.Session()\n",
    "sess.run(tf.global_variables_initializer())\n",
    "# assign = var1.assign(12.32) DOESN'T WORK \n",
    "# var1 was supposed to have int32 value but 12.32 which is float was passed, hence error \n",
    "sess.run(assign)"
   ]
  },
  {
   "cell_type": "code",
   "execution_count": 44,
   "metadata": {},
   "outputs": [],
   "source": [
    "var1 = tf.Variable(100)\n",
    "var2 = tf.Variable(200)\n",
    "sess= tf.Session()\n",
    "sess.run(tf.global_variables_initializer())\n",
    "var3 = tf.Variable(300)\n",
    "# sess.run(var3) DOESN'T WORK\n",
    "# Variable initializers must be run explicitly before other ops in your model can be run. Since var3 was not initialized\n",
    "# (as it is written after global variable initializer) it created error"
   ]
  },
  {
   "cell_type": "markdown",
   "metadata": {},
   "source": [
    "## Placeholders"
   ]
  },
  {
   "cell_type": "code",
   "execution_count": 58,
   "metadata": {},
   "outputs": [
    {
     "data": {
      "text/plain": [
       "150"
      ]
     },
     "execution_count": 58,
     "metadata": {},
     "output_type": "execute_result"
    }
   ],
   "source": [
    "x = tf.placeholder(tf.int32)\n",
    "y = x*tf.constant(10)\n",
    "session = tf.Session()\n",
    "# session.run(y) Workds FIne\n",
    "# Explanation: Error because feed_dict value for x is not provided.\n",
    "# session.run(x*y) DOESN'T WORK\n",
    "# You must feed a value for placeholder tensor 'Placeholder_1' with dtype int32\n",
    "session.run(y,feed_dict={x:15})"
   ]
  },
  {
   "cell_type": "code",
   "execution_count": 59,
   "metadata": {},
   "outputs": [
    {
     "data": {
      "text/plain": [
       "array([[10, 20, 30],\n",
       "       [40, 50, 60]], dtype=int32)"
      ]
     },
     "execution_count": 59,
     "metadata": {},
     "output_type": "execute_result"
    }
   ],
   "source": [
    "x = tf.placeholder(tf.int32)\n",
    "y = x*tf.constant(10)\n",
    "session = tf.Session()\n",
    "# session.run(y) Workds FIne\n",
    "# session.run(x*y) DOESN'T WORK\n",
    "# You must feed a value for placeholder tensor 'Placeholder_1' with dtype int32\n",
    "session.run(y,feed_dict={x:[[1,2,3],[4,5,6]]})\n",
    "# If shape of array passed in feed_dict doesn’t match.\n",
    "# You cannot feed value of shape (2, 2) for placeholder which has shape (2, 3)"
   ]
  },
  {
   "cell_type": "code",
   "execution_count": 64,
   "metadata": {},
   "outputs": [
    {
     "name": "stdout",
     "output_type": "stream",
     "text": [
      "<class 'tensorflow.python.framework.ops.Tensor'>\n",
      "<class 'int'>\n"
     ]
    },
    {
     "data": {
      "text/plain": [
       "4"
      ]
     },
     "execution_count": 64,
     "metadata": {},
     "output_type": "execute_result"
    }
   ],
   "source": [
    "a=tf.constant(3)\n",
    "print(type(a))\n",
    "a=4\n",
    "print(type(a))\n",
    "a"
   ]
  },
  {
   "cell_type": "code",
   "execution_count": 69,
   "metadata": {},
   "outputs": [
    {
     "name": "stdout",
     "output_type": "stream",
     "text": [
      "2 3\n"
     ]
    }
   ],
   "source": [
    "a=tf.Variable(2)\n",
    "b=tf.Variable(3)\n",
    "with tf.Session() as s:\n",
    "    s.run(tf.global_variables_initializer())\n",
    "    print(a.eval(),b.eval())"
   ]
  }
 ],
 "metadata": {
  "kernelspec": {
   "display_name": "Python 3",
   "language": "python",
   "name": "python3"
  },
  "language_info": {
   "codemirror_mode": {
    "name": "ipython",
    "version": 3
   },
   "file_extension": ".py",
   "mimetype": "text/x-python",
   "name": "python",
   "nbconvert_exporter": "python",
   "pygments_lexer": "ipython3",
   "version": "3.6.6"
  }
 },
 "nbformat": 4,
 "nbformat_minor": 2
}
