{
 "cells": [
  {
   "cell_type": "markdown",
   "metadata": {},
   "source": [
    "### Dataset Link :\n",
    "https://www.kaggle.com/mdhrumil/top-5000-youtube-channels-data-from-socialblade"
   ]
  },
  {
   "cell_type": "code",
   "execution_count": 1,
   "metadata": {},
   "outputs": [],
   "source": [
    "import csv\n",
    "import numpy as np\n",
    "import math"
   ]
  },
  {
   "cell_type": "code",
   "execution_count": 2,
   "metadata": {},
   "outputs": [],
   "source": [
    "class youtube:\n",
    "  \n",
    "    def num_channels_having_more_than_X_subscribers(self,num_subs):\n",
    "        with open('social_blade_youtube.csv') as csv_file:\n",
    "            csv_reader = csv.reader(csv_file)\n",
    "            # Skipping the zeroth row of column headers\n",
    "            next(csv_reader)\n",
    "            myset = set()\n",
    "            for line in csv_reader:\n",
    "                # First check if number of subs are blank values or not, as we cannot work on empty values\n",
    "                if line[4].strip()!='--':\n",
    "                    # line[4] is number of subscribers \n",
    "                    if int(line[4]) > num_subs:\n",
    "                        # line[2] is channel name\n",
    "                        myset.add(line[2]) \n",
    "        return len(myset)\n",
    "    \n",
    "    def num_channels_corresponding_to_grade(self,grade):\n",
    "        count = 0\n",
    "        with open('social_blade_youtube.csv') as csv_file:\n",
    "            csv_reader = csv.reader(csv_file)\n",
    "            next(csv_reader)\n",
    "            for line in csv_reader:\n",
    "                # line[1] is grade of channel\n",
    "                if line[1].strip()==grade:\n",
    "                    count += 1\n",
    "            return count\n",
    "        \n",
    "    def avg_number_uploads_corresponding_to_grade(self,grade,num):\n",
    "        total_uploads = 0\n",
    "        with open('social_blade_youtube.csv') as csv_file:\n",
    "            csv_reader = csv.reader(csv_file)\n",
    "            total_channels = num\n",
    "            next(csv_reader)\n",
    "            for line in csv_reader:\n",
    "                # line[1] is grade of channel\n",
    "                if line[1].strip()==grade:\n",
    "                     total_uploads += int(line[3])\n",
    "            return math.floor(total_uploads/total_channels)"
   ]
  },
  {
   "cell_type": "code",
   "execution_count": 3,
   "metadata": {},
   "outputs": [
    {
     "name": "stdout",
     "output_type": "stream",
     "text": [
      "['Rank', 'Grade', 'Channel name', 'Video Uploads', 'Subscribers', 'Video views']\n"
     ]
    }
   ],
   "source": [
    "with open('social_blade_youtube.csv') as csv_file:\n",
    "    csv_reader = csv.reader(csv_file)\n",
    "    print(next(csv_reader))"
   ]
  },
  {
   "cell_type": "code",
   "execution_count": 4,
   "metadata": {},
   "outputs": [],
   "source": [
    "obj = youtube()"
   ]
  },
  {
   "cell_type": "code",
   "execution_count": 5,
   "metadata": {},
   "outputs": [
    {
     "data": {
      "text/plain": [
       "2"
      ]
     },
     "execution_count": 5,
     "metadata": {},
     "output_type": "execute_result"
    }
   ],
   "source": [
    "obj.num_channels_having_more_than_X_subscribers(60000000) # T-Series and Pewdiepie (>6M subs)"
   ]
  },
  {
   "cell_type": "code",
   "execution_count": 10,
   "metadata": {},
   "outputs": [
    {
     "name": "stdout",
     "output_type": "stream",
     "text": [
      "41  channels have grade  A+\n",
      "Average number of videos uploaded by  41  channels of grade A+ is : 16547\n"
     ]
    }
   ],
   "source": [
    "grade = 'A+'\n",
    "num_channels = obj.num_channels_corresponding_to_grade(grade)\n",
    "print(num_channels,\" channels have grade \",grade)\n",
    "avg_uploads = obj.avg_number_uploads_corresponding_to_grade(grade,num_channels)\n",
    "print(\"Average number of videos uploaded by \",num_channels,\" channels of grade\",grade,\"is :\",avg_uploads)"
   ]
  },
  {
   "cell_type": "code",
   "execution_count": null,
   "metadata": {},
   "outputs": [],
   "source": []
  },
  {
   "cell_type": "code",
   "execution_count": null,
   "metadata": {},
   "outputs": [],
   "source": []
  },
  {
   "cell_type": "code",
   "execution_count": null,
   "metadata": {},
   "outputs": [],
   "source": []
  },
  {
   "cell_type": "code",
   "execution_count": null,
   "metadata": {},
   "outputs": [],
   "source": []
  }
 ],
 "metadata": {
  "kernelspec": {
   "display_name": "Python 3",
   "language": "python",
   "name": "python3"
  },
  "language_info": {
   "codemirror_mode": {
    "name": "ipython",
    "version": 3
   },
   "file_extension": ".py",
   "mimetype": "text/x-python",
   "name": "python",
   "nbconvert_exporter": "python",
   "pygments_lexer": "ipython3",
   "version": "3.6.6"
  }
 },
 "nbformat": 4,
 "nbformat_minor": 2
}
