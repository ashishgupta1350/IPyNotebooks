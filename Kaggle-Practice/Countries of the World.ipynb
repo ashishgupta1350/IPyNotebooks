{
 "cells": [
  {
   "cell_type": "markdown",
   "metadata": {},
   "source": [
    "## Dataset Link \n",
    "https://www.kaggle.com/fernandol/countries-of-the-world"
   ]
  },
  {
   "cell_type": "code",
   "execution_count": 1,
   "metadata": {},
   "outputs": [],
   "source": [
    "import csv"
   ]
  },
  {
   "cell_type": "markdown",
   "metadata": {},
   "source": [
    "### Q1. Which is the 5th most Populous country ?"
   ]
  },
  {
   "cell_type": "code",
   "execution_count": 2,
   "metadata": {},
   "outputs": [],
   "source": [
    "mydict = dict()\n",
    "with open('countries of the world.csv') as csv_file:\n",
    "    csv_reader = csv.reader(csv_file)\n",
    "    feature_names = next(csv_reader) # List of all 20 features\n",
    "    for line in csv_reader:\n",
    "        mydict[line[0]] = mydict.get(line[0],0) + int(line[2])"
   ]
  },
  {
   "cell_type": "code",
   "execution_count": 3,
   "metadata": {},
   "outputs": [
    {
     "data": {
      "text/plain": [
       "[(1313973713, 'China '),\n",
       " (1095351995, 'India '),\n",
       " (298444215, 'United States '),\n",
       " (245452739, 'Indonesia '),\n",
       " (188078227, 'Brazil '),\n",
       " (165803560, 'Pakistan '),\n",
       " (147365352, 'Bangladesh '),\n",
       " (142893540, 'Russia '),\n",
       " (131859731, 'Nigeria ')]"
      ]
     },
     "execution_count": 3,
     "metadata": {},
     "output_type": "execute_result"
    }
   ],
   "source": [
    "list_of_most_populated_country = sorted([(v,k) for k,v in mydict.items()],reverse=True) \n",
    "# List of tuples (population,country_name) in sorted order\n",
    "# Sorting is done on basis of first item of tuple \n",
    "\n",
    "# TOP 10 MOST POPULOUS Countries\n",
    "list_of_most_populated_country[0:9] "
   ]
  },
  {
   "cell_type": "code",
   "execution_count": 4,
   "metadata": {
    "scrolled": true
   },
   "outputs": [
    {
     "data": {
      "text/plain": [
       "(188078227, 'Brazil ')"
      ]
     },
     "execution_count": 4,
     "metadata": {},
     "output_type": "execute_result"
    }
   ],
   "source": [
    "list_of_most_populated_country[4] # 5th Most populous country "
   ]
  },
  {
   "cell_type": "code",
   "execution_count": 5,
   "metadata": {},
   "outputs": [
    {
     "name": "stdout",
     "output_type": "stream",
     "text": [
      "Brazil   is the 5th most populous country,\n"
     ]
    }
   ],
   "source": [
    "print(list_of_most_populated_country[4][1],\" is the 5th most populous country,\")"
   ]
  },
  {
   "cell_type": "markdown",
   "metadata": {},
   "source": [
    "------------------------------------------------------------------------------"
   ]
  },
  {
   "cell_type": "markdown",
   "metadata": {},
   "source": [
    "## Q2. How many countries are present in _OCEANIA_ region ?"
   ]
  },
  {
   "cell_type": "code",
   "execution_count": 6,
   "metadata": {},
   "outputs": [],
   "source": [
    "mydict = dict()\n",
    "with open('countries of the world.csv') as csv_file:\n",
    "    csv_reader = csv.reader(csv_file)\n",
    "    for line in csv_reader:\n",
    "        # line[1] is the region\n",
    "        mydict[line[0]] = line[1]"
   ]
  },
  {
   "cell_type": "code",
   "execution_count": 8,
   "metadata": {},
   "outputs": [],
   "source": [
    "count=0\n",
    "for k,v in mydict.items():\n",
    "    if 'OCEANIA' in v:\n",
    "        count+=1"
   ]
  },
  {
   "cell_type": "code",
   "execution_count": 9,
   "metadata": {},
   "outputs": [
    {
     "data": {
      "text/plain": [
       "21"
      ]
     },
     "execution_count": 9,
     "metadata": {},
     "output_type": "execute_result"
    }
   ],
   "source": [
    "count"
   ]
  },
  {
   "cell_type": "code",
   "execution_count": 11,
   "metadata": {},
   "outputs": [
    {
     "name": "stdout",
     "output_type": "stream",
     "text": [
      "21 number of countries are present in Oceania\n"
     ]
    }
   ],
   "source": [
    "print(count,\"number of countries are present in Oceania\")"
   ]
  },
  {
   "cell_type": "markdown",
   "metadata": {},
   "source": [
    "---------------------------------------------------------------------------------------------------"
   ]
  },
  {
   "cell_type": "markdown",
   "metadata": {},
   "source": [
    "## Q3.  Which is the country having 8th highest area (sq.mi.) ?"
   ]
  },
  {
   "cell_type": "code",
   "execution_count": 12,
   "metadata": {},
   "outputs": [],
   "source": [
    "mydict = dict()\n",
    "with open('countries of the world.csv') as csv_file:\n",
    "    csv_reader = csv.reader(csv_file)\n",
    "    for line in csv_reader:\n",
    "        # line[3] is the area of country\n",
    "        mydict[line[0]] = mydict.get(line[0],0)+int(line[3])"
   ]
  },
  {
   "cell_type": "code",
   "execution_count": 13,
   "metadata": {},
   "outputs": [],
   "source": [
    "list_area = sorted([(v,k) for k,v in mydict.items()],reverse=True)\n",
    "# List of tuples (area,country_name) in sorted order\n",
    "# Sorting is done on basis of first item of tuple "
   ]
  },
  {
   "cell_type": "code",
   "execution_count": 14,
   "metadata": {},
   "outputs": [
    {
     "data": {
      "text/plain": [
       "[(17075200, 'Russia '),\n",
       " (9984670, 'Canada '),\n",
       " (9631420, 'United States '),\n",
       " (9596960, 'China '),\n",
       " (8511965, 'Brazil '),\n",
       " (7686850, 'Australia '),\n",
       " (3287590, 'India '),\n",
       " (2766890, 'Argentina ')]"
      ]
     },
     "execution_count": 14,
     "metadata": {},
     "output_type": "execute_result"
    }
   ],
   "source": [
    "list_area[0:8]"
   ]
  },
  {
   "cell_type": "code",
   "execution_count": 15,
   "metadata": {},
   "outputs": [
    {
     "name": "stdout",
     "output_type": "stream",
     "text": [
      "Argentina   has 8th highest area in sq.mi\n"
     ]
    }
   ],
   "source": [
    "print(list_area[7][1],\" has 8th highest area in sq.mi\")"
   ]
  },
  {
   "cell_type": "code",
   "execution_count": 16,
   "metadata": {
    "scrolled": true
   },
   "outputs": [
    {
     "data": {
      "text/plain": [
       "['Country',\n",
       " 'Region',\n",
       " 'Population',\n",
       " 'Area (sq. mi.)',\n",
       " 'Pop. Density (per sq. mi.)',\n",
       " 'Coastline (coast/area ratio)',\n",
       " 'Net migration',\n",
       " 'Infant mortality (per 1000 births)',\n",
       " 'GDP ($ per capita)',\n",
       " 'Literacy (%)',\n",
       " 'Phones (per 1000)',\n",
       " 'Arable (%)',\n",
       " 'Crops (%)',\n",
       " 'Other (%)',\n",
       " 'Climate',\n",
       " 'Birthrate',\n",
       " 'Deathrate',\n",
       " 'Agriculture',\n",
       " 'Industry',\n",
       " 'Service']"
      ]
     },
     "execution_count": 16,
     "metadata": {},
     "output_type": "execute_result"
    }
   ],
   "source": [
    "feature_names"
   ]
  },
  {
   "cell_type": "code",
   "execution_count": null,
   "metadata": {},
   "outputs": [],
   "source": []
  },
  {
   "cell_type": "code",
   "execution_count": null,
   "metadata": {},
   "outputs": [],
   "source": []
  },
  {
   "cell_type": "code",
   "execution_count": null,
   "metadata": {},
   "outputs": [],
   "source": []
  },
  {
   "cell_type": "code",
   "execution_count": null,
   "metadata": {},
   "outputs": [],
   "source": []
  },
  {
   "cell_type": "code",
   "execution_count": null,
   "metadata": {},
   "outputs": [],
   "source": []
  },
  {
   "cell_type": "code",
   "execution_count": null,
   "metadata": {},
   "outputs": [],
   "source": []
  },
  {
   "cell_type": "code",
   "execution_count": null,
   "metadata": {},
   "outputs": [],
   "source": []
  },
  {
   "cell_type": "code",
   "execution_count": null,
   "metadata": {},
   "outputs": [],
   "source": []
  }
 ],
 "metadata": {
  "kernelspec": {
   "display_name": "Python 3",
   "language": "python",
   "name": "python3"
  },
  "language_info": {
   "codemirror_mode": {
    "name": "ipython",
    "version": 3
   },
   "file_extension": ".py",
   "mimetype": "text/x-python",
   "name": "python",
   "nbconvert_exporter": "python",
   "pygments_lexer": "ipython3",
   "version": "3.6.6"
  }
 },
 "nbformat": 4,
 "nbformat_minor": 2
}
