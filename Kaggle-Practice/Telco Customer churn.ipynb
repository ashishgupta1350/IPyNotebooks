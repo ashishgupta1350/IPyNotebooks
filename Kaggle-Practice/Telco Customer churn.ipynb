{
 "cells": [
  {
   "cell_type": "markdown",
   "metadata": {},
   "source": [
    "## Dataset Link :\n",
    "https://www.kaggle.com/blastchar/telco-customer-churn"
   ]
  },
  {
   "cell_type": "code",
   "execution_count": 1,
   "metadata": {},
   "outputs": [],
   "source": [
    "import csv\n",
    "import numpy as np"
   ]
  },
  {
   "cell_type": "markdown",
   "metadata": {},
   "source": [
    "### Q1. Average Monthly Charges of all Customers having Credit Card as Payment method. (Till 2 decimal places)"
   ]
  },
  {
   "cell_type": "code",
   "execution_count": 2,
   "metadata": {},
   "outputs": [
    {
     "name": "stdout",
     "output_type": "stream",
     "text": [
      "Amount charged monthly for Credit card customers :  66.51\n"
     ]
    }
   ],
   "source": [
    "feature_names = []\n",
    "charges = []\n",
    "with open('Telco-Customer-Churn.csv') as csv_file:\n",
    "    csv_reader = csv.reader(csv_file)\n",
    "    feature_names = next(csv_reader)\n",
    "    for line in csv_reader:\n",
    "        # line[17] tells about Payment Method\n",
    "        if 'Credit card' in line[17]:\n",
    "            # line[18] tells about the Monthly charges\n",
    "            charges.append(line[18])\n",
    "            \n",
    "arr = np.array(charges,dtype=np.float)\n",
    "print(\"Amount charged monthly for Credit card customers : \",round(arr.mean(),2))"
   ]
  },
  {
   "cell_type": "markdown",
   "metadata": {},
   "source": [
    "### Q2. What is the Most Common Contract(Tenure) for Male Senior Citizens  ?"
   ]
  },
  {
   "cell_type": "code",
   "execution_count": 25,
   "metadata": {},
   "outputs": [
    {
     "name": "stdout",
     "output_type": "stream",
     "text": [
      "{'Month-to-month': 408, 'One year': 89, 'Two year': 77} \n",
      "\n",
      "Month-to-Month is most preferred by Male Senior citizens\n"
     ]
    }
   ],
   "source": [
    "mydict = dict()\n",
    "with open('Telco-Customer-Churn.csv') as csv_file:\n",
    "    csv_reader = csv.reader(csv_file)\n",
    "    feature_names = next(csv_reader)\n",
    "    for line in csv_reader:\n",
    "        # line[1] gives 'gender' , line[2] tells whether , it is a senior citizen or not\n",
    "        # line[15] tell about the tenure i.e contract length\n",
    "        if line[1]=='Male' and line[2]=='1':\n",
    "            mydict[line[15]]=mydict.get(line[15],0)+1\n",
    "print(mydict,'\\n')\n",
    "print('Month-to-Month is most preferred by Male Senior citizens')"
   ]
  },
  {
   "cell_type": "markdown",
   "metadata": {},
   "source": [
    "### Q3. What is the average number of months a customer stayed with company having DSL as Internet serice provider ? [Till 2 decimal places]"
   ]
  },
  {
   "cell_type": "code",
   "execution_count": 9,
   "metadata": {},
   "outputs": [
    {
     "name": "stdout",
     "output_type": "stream",
     "text": [
      "Average number of months a customer stayed with company having DSL as ISP :  32.82\n"
     ]
    }
   ],
   "source": [
    "months = []\n",
    "with open('Telco-Customer-Churn.csv') as csv_file:\n",
    "    csv_reader = csv.reader(csv_file)\n",
    "    feature_names = next(csv_reader)\n",
    "    for line in csv_reader:\n",
    "        if 'DSL' in line[8]:\n",
    "            months.append(line[5])\n",
    "            \n",
    "arr = np.array(months,dtype=np.float)\n",
    "print(\"Average number of months a customer stayed with company having DSL as ISP : \",round(arr.mean(),2))"
   ]
  },
  {
   "cell_type": "code",
   "execution_count": 10,
   "metadata": {
    "scrolled": true
   },
   "outputs": [
    {
     "data": {
      "text/plain": [
       "['customerID',\n",
       " 'gender',\n",
       " 'SeniorCitizen',\n",
       " 'Partner',\n",
       " 'Dependents',\n",
       " 'tenure',\n",
       " 'PhoneService',\n",
       " 'MultipleLines',\n",
       " 'InternetService',\n",
       " 'OnlineSecurity',\n",
       " 'OnlineBackup',\n",
       " 'DeviceProtection',\n",
       " 'TechSupport',\n",
       " 'StreamingTV',\n",
       " 'StreamingMovies',\n",
       " 'Contract',\n",
       " 'PaperlessBilling',\n",
       " 'PaymentMethod',\n",
       " 'MonthlyCharges',\n",
       " 'TotalCharges',\n",
       " 'Churn']"
      ]
     },
     "execution_count": 10,
     "metadata": {},
     "output_type": "execute_result"
    }
   ],
   "source": [
    "feature_names"
   ]
  },
  {
   "cell_type": "code",
   "execution_count": null,
   "metadata": {},
   "outputs": [],
   "source": []
  },
  {
   "cell_type": "code",
   "execution_count": null,
   "metadata": {},
   "outputs": [],
   "source": []
  },
  {
   "cell_type": "code",
   "execution_count": null,
   "metadata": {},
   "outputs": [],
   "source": []
  },
  {
   "cell_type": "code",
   "execution_count": null,
   "metadata": {},
   "outputs": [],
   "source": []
  },
  {
   "cell_type": "code",
   "execution_count": null,
   "metadata": {},
   "outputs": [],
   "source": []
  },
  {
   "cell_type": "code",
   "execution_count": null,
   "metadata": {},
   "outputs": [],
   "source": []
  },
  {
   "cell_type": "code",
   "execution_count": null,
   "metadata": {},
   "outputs": [],
   "source": []
  },
  {
   "cell_type": "code",
   "execution_count": null,
   "metadata": {},
   "outputs": [],
   "source": []
  }
 ],
 "metadata": {
  "kernelspec": {
   "display_name": "Python 3",
   "language": "python",
   "name": "python3"
  },
  "language_info": {
   "codemirror_mode": {
    "name": "ipython",
    "version": 3
   },
   "file_extension": ".py",
   "mimetype": "text/x-python",
   "name": "python",
   "nbconvert_exporter": "python",
   "pygments_lexer": "ipython3",
   "version": "3.6.6"
  }
 },
 "nbformat": 4,
 "nbformat_minor": 2
}
