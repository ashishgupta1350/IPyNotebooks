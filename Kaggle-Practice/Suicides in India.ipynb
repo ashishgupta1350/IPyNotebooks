{
 "cells": [
  {
   "cell_type": "markdown",
   "metadata": {},
   "source": [
    "### Dataset Link: (Using Files, Set and Dictionary)\n",
    "https://www.kaggle.com/tanishq18/india-suicide-statistics-201112"
   ]
  },
  {
   "cell_type": "code",
   "execution_count": 1,
   "metadata": {},
   "outputs": [],
   "source": [
    "import csv"
   ]
  },
  {
   "cell_type": "markdown",
   "metadata": {},
   "source": [
    "### Q1. Find total number of suicides in state of _GOA_ between years 2004 and 2008 [BOTH INCLUSIVE]"
   ]
  },
  {
   "cell_type": "code",
   "execution_count": 2,
   "metadata": {},
   "outputs": [],
   "source": [
    "myset=set() # This set consists of all 29 states and 7 union territories \n",
    "mydict=dict() # To keep track of number of Year(key) and corresponding suicides in that year for GOA\n",
    "with open('Suicides in India 2001-2012 Updated.csv') as csv_file:\n",
    "    csv_reader = csv.reader(csv_file)\n",
    "    \n",
    "    # Skipping the zeroth row which contains the column headers\n",
    "    next(csv_reader)\n",
    "    \n",
    "    for line in csv_reader:\n",
    "     \n",
    "    # line[0] is state/union territory name which we add to our set to check that the set has 36 entries (29 states and 7 UTs)\n",
    "    # Because as we know set contains only unique elements\n",
    "        \n",
    "        myset.add(line[0])\n",
    "        \n",
    "        # line[1] is the year (key of our dictionary) and line[6] is the total number of suicides \n",
    "        if line[0]=='Goa':\n",
    "            mydict[line[1]]=mydict.get(line[1],0)+int(line[6])"
   ]
  },
  {
   "cell_type": "code",
   "execution_count": 3,
   "metadata": {},
   "outputs": [
    {
     "data": {
      "text/plain": [
       "{'2001': 1280,\n",
       " '2002': 1545,\n",
       " '2003': 1500,\n",
       " '2004': 1570,\n",
       " '2005': 1410,\n",
       " '2006': 1375,\n",
       " '2007': 1350,\n",
       " '2008': 1431,\n",
       " '2009': 1382,\n",
       " '2010': 1610,\n",
       " '2011': 1465,\n",
       " '2012': 1445}"
      ]
     },
     "execution_count": 3,
     "metadata": {},
     "output_type": "execute_result"
    }
   ],
   "source": [
    "# This is what the dictionary looks like\n",
    "mydict"
   ]
  },
  {
   "cell_type": "code",
   "execution_count": 4,
   "metadata": {
    "scrolled": true
   },
   "outputs": [
    {
     "data": {
      "text/plain": [
       "7136"
      ]
     },
     "execution_count": 4,
     "metadata": {},
     "output_type": "execute_result"
    }
   ],
   "source": [
    "# Now, summing for key values between 2004 and 2008\n",
    "total_suicides_goa_04_08 = 0\n",
    "for k,v in mydict.items():\n",
    "    \n",
    "    if int(k)>=2004 and int(k)<=2008:\n",
    "        total_suicides_goa_04_08 += v\n",
    "\n",
    "total_suicides_goa_04_08"
   ]
  },
  {
   "cell_type": "code",
   "execution_count": 5,
   "metadata": {},
   "outputs": [
    {
     "name": "stdout",
     "output_type": "stream",
     "text": [
      "Total number of suicides in GOA between 2004-08 were : 7136\n"
     ]
    }
   ],
   "source": [
    "print(\"Total number of suicides in GOA between 2004-08 were :\",total_suicides_goa_04_08)"
   ]
  },
  {
   "cell_type": "markdown",
   "metadata": {},
   "source": [
    "### Q2. Which Gender committed more suicides in _Gujarat_ between years 2001-2012 (Complete range)"
   ]
  },
  {
   "cell_type": "code",
   "execution_count": 6,
   "metadata": {
    "scrolled": true
   },
   "outputs": [],
   "source": [
    "mydict=dict() # To keep track of Gender and corresponding suicides in that year\n",
    "with open('Suicides in India 2001-2012 Updated.csv') as csv_file:\n",
    "    csv_reader = csv.reader(csv_file)\n",
    "    \n",
    "    # Skipping the zeroth row which contains the column headers\n",
    "    next(csv_reader)\n",
    "    \n",
    "    for line in csv_reader:\n",
    "     \n",
    "        # line[4] is the Gender (key of our dictionary) and line[6] is the total number of suicides \n",
    "        if line[0]=='Gujarat':\n",
    "            mydict[line[4]]=mydict.get(line[4],0)+int(line[6])"
   ]
  },
  {
   "cell_type": "code",
   "execution_count": 7,
   "metadata": {},
   "outputs": [
    {
     "data": {
      "text/plain": [
       "{'Female': 132493, 'Male': 198365}"
      ]
     },
     "execution_count": 7,
     "metadata": {},
     "output_type": "execute_result"
    }
   ],
   "source": [
    "mydict"
   ]
  },
  {
   "cell_type": "code",
   "execution_count": 8,
   "metadata": {},
   "outputs": [
    {
     "name": "stdout",
     "output_type": "stream",
     "text": [
      "Male committed more suicides in India between the years 2001-2012 by this much: 65872\n"
     ]
    }
   ],
   "source": [
    "print(\"Male committed more suicides in India between the years 2001-2012 by this much:\",mydict['Male']-mydict['Female'])"
   ]
  },
  {
   "cell_type": "markdown",
   "metadata": {},
   "source": [
    "#### Q3. How many committed suicides due to 'Failure in Examination' between years 2001-2012 (Complete range)"
   ]
  },
  {
   "cell_type": "code",
   "execution_count": 9,
   "metadata": {},
   "outputs": [],
   "source": [
    "mydict=dict() # To keep track of Gender and corresponding suicides in that year\n",
    "with open('Suicides in India 2001-2012 Updated.csv') as csv_file:\n",
    "    csv_reader = csv.reader(csv_file)\n",
    "    \n",
    "    # Skipping the zeroth row which contains the column headers\n",
    "    next(csv_reader)\n",
    "    \n",
    "    for line in csv_reader:\n",
    "        # line[3] is the Type of suicide (key of our dictionary) and line[6] is the total number of suicides \n",
    "        mydict[line[3]]=mydict.get(line[3],0)+int(line[6])"
   ]
  },
  {
   "cell_type": "code",
   "execution_count": 10,
   "metadata": {},
   "outputs": [
    {
     "data": {
      "text/plain": [
       "27005"
      ]
     },
     "execution_count": 10,
     "metadata": {},
     "output_type": "execute_result"
    }
   ],
   "source": [
    "mydict['Failure in Examination']"
   ]
  },
  {
   "cell_type": "code",
   "execution_count": 11,
   "metadata": {},
   "outputs": [
    {
     "name": "stdout",
     "output_type": "stream",
     "text": [
      "27005 people committed suicide due to this reason\n"
     ]
    }
   ],
   "source": [
    "print(mydict['Failure in Examination'],'people committed suicide due to this reason')"
   ]
  },
  {
   "cell_type": "code",
   "execution_count": null,
   "metadata": {},
   "outputs": [],
   "source": []
  },
  {
   "cell_type": "code",
   "execution_count": null,
   "metadata": {},
   "outputs": [],
   "source": []
  },
  {
   "cell_type": "code",
   "execution_count": null,
   "metadata": {},
   "outputs": [],
   "source": []
  }
 ],
 "metadata": {
  "kernelspec": {
   "display_name": "Python 3",
   "language": "python",
   "name": "python3"
  },
  "language_info": {
   "codemirror_mode": {
    "name": "ipython",
    "version": 3
   },
   "file_extension": ".py",
   "mimetype": "text/x-python",
   "name": "python",
   "nbconvert_exporter": "python",
   "pygments_lexer": "ipython3",
   "version": "3.6.6"
  }
 },
 "nbformat": 4,
 "nbformat_minor": 2
}
