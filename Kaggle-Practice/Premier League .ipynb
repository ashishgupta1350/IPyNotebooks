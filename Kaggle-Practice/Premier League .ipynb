{
 "cells": [
  {
   "cell_type": "markdown",
   "metadata": {},
   "source": [
    "## Dataset Link :\n",
    "https://www.kaggle.com/zaeemnalla/premier-league    "
   ]
  },
  {
   "cell_type": "code",
   "execution_count": 1,
   "metadata": {},
   "outputs": [],
   "source": [
    "import csv\n",
    "import numpy as np"
   ]
  },
  {
   "cell_type": "markdown",
   "metadata": {},
   "source": [
    "### Q1. In how many AWAY games did Chelsea score more than 1 goal in 2011-2012 season ?"
   ]
  },
  {
   "cell_type": "code",
   "execution_count": 2,
   "metadata": {},
   "outputs": [
    {
     "name": "stdout",
     "output_type": "stream",
     "text": [
      "In 5 out of 19 away games, Chelsea score more than 1 goal in 2011-2012 season\n"
     ]
    }
   ],
   "source": [
    "col_heads = [] # This is the list of the features of our csv table\n",
    "away_goals = []\n",
    "with open('results.csv','r') as csv_file:\n",
    "    csv_reader = csv.reader(csv_file)\n",
    "    # Skipping the first row of column using next function\n",
    "    col_heads = next(csv_reader)\n",
    "    # line[5] gives us the 'season number' and line[1] gives us the away team name\n",
    "    # line[3] is the index for the 'away goals'\n",
    "    for line in csv_reader:\n",
    "        if line[5]=='2011-2012' and line[1]=='Chelsea':\n",
    "            away_goals.append(line[3])\n",
    "\n",
    "# Creating numpy array\n",
    "arr = np.array(away_goals,dtype=np.float)\n",
    "\n",
    "np.where( arr > 1 )\n",
    "# In 5 games Chelsea scored more than 1 goal\n",
    "print(\"In 5 out of 19 away games, Chelsea score more than 1 goal in 2011-2012 season\")"
   ]
  },
  {
   "cell_type": "markdown",
   "metadata": {},
   "source": [
    "## ------------------------------------------------------------------------------"
   ]
  },
  {
   "cell_type": "markdown",
   "metadata": {},
   "source": [
    "### Q2. AVERAGE number of goals scored by Manchester United against Arsenal between seasons 2009-2010 and 2015-2016 [Both Inclusive] ; Round off to 2 decimal places?"
   ]
  },
  {
   "cell_type": "code",
   "execution_count": 3,
   "metadata": {},
   "outputs": [],
   "source": [
    "goals = []\n",
    "with open('results.csv','r') as csv_file:\n",
    "    csv_reader = csv.reader(csv_file)\n",
    "    # Skipping the first row of column using next function\n",
    "    col_heads = next(csv_reader)\n",
    "    # line[5] gives us the 'season number' and line[0] gives us the home team name\n",
    "    # line[2] is the number of home goals and line[1] gives us the away team name\n",
    "    for line in csv_reader:\n",
    "        if line[5]>='2009-2010' and line[5]<='2015-2016' and line[0]=='Manchester United' and line[1]=='Arsenal':\n",
    "            goals.append(float(line[2])+float(line[3]))"
   ]
  },
  {
   "cell_type": "code",
   "execution_count": 4,
   "metadata": {},
   "outputs": [
    {
     "name": "stdout",
     "output_type": "stream",
     "text": [
      "3.57\n"
     ]
    }
   ],
   "source": [
    "print(round(np.array(goals).mean(),2))"
   ]
  },
  {
   "cell_type": "markdown",
   "metadata": {},
   "source": [
    "## ------------------------------------------------------------------------"
   ]
  },
  {
   "cell_type": "markdown",
   "metadata": {},
   "source": [
    "### Q3. What is the RANGE of number of matches(Both home and away) won by Manchester United between seasons 2006-07 and 2017-18 ?"
   ]
  },
  {
   "cell_type": "code",
   "execution_count": 5,
   "metadata": {},
   "outputs": [],
   "source": [
    "mydict = dict()\n",
    "with open('results.csv','r') as csv_file:\n",
    "    csv_reader = csv.reader(csv_file)\n",
    "    # Skipping the first row of column using next function\n",
    "    col_heads = next(csv_reader)\n",
    "    # line[5] gives us the 'season number' and line[0] gives us the home team name\n",
    "    # line[2] is the number of home goals and line[1] gives us the away team name\n",
    "    for line in csv_reader:\n",
    "        if line[5]>='2006-2007' and line[5]<='2017-2018':\n",
    "            # If the Home team is Manchester United , and the result of match is 'H' i.e Home team won\n",
    "            if line[0]=='Manchester United' and line[4]=='H':\n",
    "                mydict[line[5]] = mydict.get(line[5],0) + 1\n",
    "            # If the away team is Manchester United and the result of match is 'A' i.e Awat team won\n",
    "            if line[1]=='Manchester United' and line[4]=='A':\n",
    "                mydict[line[5]] = mydict.get(line[5],0) + 1"
   ]
  },
  {
   "cell_type": "code",
   "execution_count": 6,
   "metadata": {},
   "outputs": [],
   "source": [
    "list_wins = [v for k,v in mydict.items()]"
   ]
  },
  {
   "cell_type": "code",
   "execution_count": 7,
   "metadata": {},
   "outputs": [],
   "source": [
    "# For Range of values (maximum - minimum) along an axis.\n",
    "# Use numpy.ptp(a, axis=None, out=None)[source]"
   ]
  },
  {
   "cell_type": "code",
   "execution_count": 11,
   "metadata": {},
   "outputs": [
    {
     "name": "stdout",
     "output_type": "stream",
     "text": [
      "Maximum matches won :  28  and minimum matches won : 18\n",
      "Range is  10\n"
     ]
    }
   ],
   "source": [
    "arr = np.array(list_wins)\n",
    "print(\"Maximum matches won : \",arr.max(),\" and minimum matches won :\",arr.min())\n",
    "range = arr.ptp(axis=0)\n",
    "print(\"Range is \",range)"
   ]
  },
  {
   "cell_type": "code",
   "execution_count": null,
   "metadata": {},
   "outputs": [],
   "source": []
  },
  {
   "cell_type": "code",
   "execution_count": null,
   "metadata": {},
   "outputs": [],
   "source": []
  }
 ],
 "metadata": {
  "kernelspec": {
   "display_name": "Python 3",
   "language": "python",
   "name": "python3"
  },
  "language_info": {
   "codemirror_mode": {
    "name": "ipython",
    "version": 3
   },
   "file_extension": ".py",
   "mimetype": "text/x-python",
   "name": "python",
   "nbconvert_exporter": "python",
   "pygments_lexer": "ipython3",
   "version": "3.6.6"
  }
 },
 "nbformat": 4,
 "nbformat_minor": 2
}
