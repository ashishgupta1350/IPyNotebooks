{
 "cells": [
  {
   "cell_type": "code",
   "execution_count": 1,
   "metadata": {},
   "outputs": [],
   "source": [
    "import pandas as pd\n",
    "import numpy as np"
   ]
  },
  {
   "cell_type": "code",
   "execution_count": 2,
   "metadata": {},
   "outputs": [],
   "source": [
    "train_data = pd.read_csv('kaggle-titanic-train.csv')\n",
    "x_test = pd.read_csv('kaggle-titanic-test.csv')"
   ]
  },
  {
   "cell_type": "code",
   "execution_count": 3,
   "metadata": {},
   "outputs": [],
   "source": [
    "data_copy = train_data.copy()\n",
    "test_copy = x_test.copy()\n",
    "pid=test_copy.PassengerId"
   ]
  },
  {
   "cell_type": "markdown",
   "metadata": {},
   "source": [
    "<h1>Exploratory Data Analysis</h1>"
   ]
  },
  {
   "cell_type": "markdown",
   "metadata": {},
   "source": [
    "<h2> * RELATIONSHIP BETWEEN TICKET CLASS AND SURVIVAL</h2>"
   ]
  },
  {
   "cell_type": "code",
   "execution_count": 4,
   "metadata": {
    "scrolled": true
   },
   "outputs": [
    {
     "data": {
      "text/plain": [
       "Index(['Pclass', 'Survived'], dtype='object')"
      ]
     },
     "execution_count": 4,
     "metadata": {},
     "output_type": "execute_result"
    }
   ],
   "source": [
    "train_data[['Pclass','Survived']].groupby(['Pclass'],as_index=False).groups # Know which index are of Pclass 1,2 or 3\n",
    "Pclass_df = train_data[['Pclass','Survived']].groupby(['Pclass'],as_index=False).mean().sort_values(by=\"Survived\",ascending=False)\n",
    "Pclass_df.columns"
   ]
  },
  {
   "cell_type": "code",
   "execution_count": 6,
   "metadata": {},
   "outputs": [
    {
     "data": {
      "image/png": "[encoded data removed]",
      "text/plain": [
       "<Figure size 432x288 with 1 Axes>"
      ]
     },
     "metadata": {},
     "output_type": "display_data"
    },
    {
     "name": "stdout",
     "output_type": "stream",
     "text": [
      "None\n"
     ]
    }
   ],
   "source": [
    "import matplotlib.pyplot as plt\n",
    "labels=['Pclass 1','Pclass 2','Pclass 3']\n",
    "sizes=[]\n",
    "colors = ['#ff9999','#66b3ff','#99ff99'] # Choosing lighter shades\n",
    "explode=[0,0.1,0.2]\n",
    "for key in Pclass_df.Survived:\n",
    "    sizes.append(key)\n",
    "    \n",
    "fig1, ax1 = plt.subplots()\n",
    "ax1.pie(sizes,labels=labels,explode=explode,colors=colors,autopct=\"%.2f %%\")\n",
    "print(plt.show())"
   ]
  },
  {
   "cell_type": "markdown",
   "metadata": {},
   "source": [
    ">>>   WE CONCLUDE THAT ***BETTER TICKET CLASS***  MEANT ***HIGHER*** RATE OF SURVIVAL"
   ]
  },
  {
   "cell_type": "markdown",
   "metadata": {},
   "source": [
    "<h2> * RELATIONSHIP BETWEEN GENDER AND SURVIVAL</h2>"
   ]
  },
  {
   "cell_type": "code",
   "execution_count": 7,
   "metadata": {},
   "outputs": [
    {
     "data": {
      "text/html": [
       "<div>\n",
       "<style scoped>\n",
       "    .dataframe tbody tr th:only-of-type {\n",
       "        vertical-align: middle;\n",
       "    }\n",
       "\n",
       "    .dataframe tbody tr th {\n",
       "        vertical-align: top;\n",
       "    }\n",
       "\n",
       "    .dataframe thead th {\n",
       "        text-align: right;\n",
       "    }\n",
       "</style>\n",
       "<table border=\"1\" class=\"dataframe\">\n",
       "  <thead>\n",
       "    <tr style=\"text-align: right;\">\n",
       "      <th></th>\n",
       "      <th>Sex</th>\n",
       "      <th>Survived</th>\n",
       "    </tr>\n",
       "  </thead>\n",
       "  <tbody>\n",
       "    <tr>\n",
       "      <th>0</th>\n",
       "      <td>female</td>\n",
       "      <td>0.742038</td>\n",
       "    </tr>\n",
       "    <tr>\n",
       "      <th>1</th>\n",
       "      <td>male</td>\n",
       "      <td>0.188908</td>\n",
       "    </tr>\n",
       "  </tbody>\n",
       "</table>\n",
       "</div>"
      ],
      "text/plain": [
       "      Sex  Survived\n",
       "0  female  0.742038\n",
       "1    male  0.188908"
      ]
     },
     "execution_count": 7,
     "metadata": {},
     "output_type": "execute_result"
    }
   ],
   "source": [
    "train_data[['Sex','Survived']].groupby(['Sex'],as_index=False).groups\n",
    "Gender_df=train_data[['Sex','Survived']].groupby(['Sex'],as_index=False).mean().sort_values(by=\"Survived\",ascending=False)\n",
    "# mean is sum/size i.e number of 1's / number of 1's + number of 0's , which is actually the probability of survival\n",
    "Gender_df"
   ]
  },
  {
   "cell_type": "code",
   "execution_count": 8,
   "metadata": {},
   "outputs": [
    {
     "data": {
      "image/png": "[encoded data removed]",
      "text/plain": [
       "<Figure size 432x288 with 1 Axes>"
      ]
     },
     "metadata": {},
     "output_type": "display_data"
    }
   ],
   "source": [
    "labels=['Female','Male','NaN']\n",
    "sizes=[]\n",
    "explode=[0,0.1,0.1]\n",
    "colors = ['#ff9999','#66b3ff','#99ff99']\n",
    "nan_sum=0\n",
    "for size in Gender_df.Survived:\n",
    "    nan_sum+=size\n",
    "    sizes.append(size)\n",
    "nan_sum=1-nan_sum\n",
    "sizes.append(nan_sum)\n",
    "fig1, ax1 = plt.subplots()\n",
    "ax1.pie(sizes,labels=labels,explode=explode,autopct=\"%.2f %%\",colors=colors)\n",
    "# Equal aspect ratio ensures that pie is drawn as a circle\n",
    "ax1.axis('equal')\n",
    "plt.tight_layout()\n",
    "plt.show()"
   ]
  },
  {
   "cell_type": "markdown",
   "metadata": {},
   "source": [
    ">>>   WE CONCLUDE THAT ***FEMALE*** HAVE ***HIGHER*** RATE OF SURVIVAL"
   ]
  },
  {
   "cell_type": "markdown",
   "metadata": {},
   "source": [
    "<h2> *RELATIONSHIP BETWEEN Port of Embarkation AND SURVIVAL </h2>"
   ]
  },
  {
   "cell_type": "markdown",
   "metadata": {},
   "source": [
    "*C = Cherbourg, Q = Queenstown, S = Southampton*"
   ]
  },
  {
   "cell_type": "code",
   "execution_count": 9,
   "metadata": {},
   "outputs": [
    {
     "data": {
      "text/html": [
       "<div>\n",
       "<style scoped>\n",
       "    .dataframe tbody tr th:only-of-type {\n",
       "        vertical-align: middle;\n",
       "    }\n",
       "\n",
       "    .dataframe tbody tr th {\n",
       "        vertical-align: top;\n",
       "    }\n",
       "\n",
       "    .dataframe thead th {\n",
       "        text-align: right;\n",
       "    }\n",
       "</style>\n",
       "<table border=\"1\" class=\"dataframe\">\n",
       "  <thead>\n",
       "    <tr style=\"text-align: right;\">\n",
       "      <th></th>\n",
       "      <th>Embarked</th>\n",
       "      <th>Survived</th>\n",
       "    </tr>\n",
       "  </thead>\n",
       "  <tbody>\n",
       "    <tr>\n",
       "      <th>0</th>\n",
       "      <td>C</td>\n",
       "      <td>0.553571</td>\n",
       "    </tr>\n",
       "    <tr>\n",
       "      <th>1</th>\n",
       "      <td>Q</td>\n",
       "      <td>0.389610</td>\n",
       "    </tr>\n",
       "    <tr>\n",
       "      <th>2</th>\n",
       "      <td>S</td>\n",
       "      <td>0.336957</td>\n",
       "    </tr>\n",
       "  </tbody>\n",
       "</table>\n",
       "</div>"
      ],
      "text/plain": [
       "  Embarked  Survived\n",
       "0        C  0.553571\n",
       "1        Q  0.389610\n",
       "2        S  0.336957"
      ]
     },
     "execution_count": 9,
     "metadata": {},
     "output_type": "execute_result"
    }
   ],
   "source": [
    "em_df = train_data[['Embarked','Survived']].groupby(['Embarked'],as_index=False).mean()\n",
    "em_df"
   ]
  },
  {
   "cell_type": "code",
   "execution_count": 10,
   "metadata": {},
   "outputs": [
    {
     "data": {
      "image/png": "[encoded data removed]",
      "text/plain": [
       "<Figure size 432x288 with 1 Axes>"
      ]
     },
     "metadata": {},
     "output_type": "display_data"
    }
   ],
   "source": [
    "labels=['Chresbourg','Queenstown','Southhampton']\n",
    "sizes=[]\n",
    "colors = ['#ff9999','#66b3ff','#99ff99']\n",
    "nan_sum=0\n",
    "for size in em_df.Survived:\n",
    "    nan_sum+=size\n",
    "for size in em_df.Survived:\n",
    "    sizes.append(size/nan_sum)\n",
    "fig1, ax1 = plt.subplots()\n",
    "ax1.pie(sizes,labels=labels,autopct=\"%.2f %%\",colors=colors)\n",
    "\n",
    "#draw circle\n",
    "centre_circle = plt.Circle((0,0),0.80,fc='white',linewidth=1.5)\n",
    "fig = plt.gcf()\n",
    "fig.gca().add_artist(centre_circle)\n",
    "\n",
    "# Equal aspect ratio ensures that pie is drawn as a circle\n",
    "ax1.axis('equal')\n",
    "plt.tight_layout()\n",
    "plt.show()"
   ]
  },
  {
   "cell_type": "markdown",
   "metadata": {},
   "source": [
    ">>>   WE CONCLUDE THAT ***Embarking from Cherbourg*** HAS ***HIGHEST*** RATE OF SURVIVAL"
   ]
  },
  {
   "cell_type": "markdown",
   "metadata": {},
   "source": [
    "<h3> *RELATIONSHIP BETWEEN the number of siblings / spouses aboard the Titanic AND SURVIVAL </h3>"
   ]
  },
  {
   "cell_type": "code",
   "execution_count": 11,
   "metadata": {},
   "outputs": [
    {
     "data": {
      "text/html": [
       "<div>\n",
       "<style scoped>\n",
       "    .dataframe tbody tr th:only-of-type {\n",
       "        vertical-align: middle;\n",
       "    }\n",
       "\n",
       "    .dataframe tbody tr th {\n",
       "        vertical-align: top;\n",
       "    }\n",
       "\n",
       "    .dataframe thead th {\n",
       "        text-align: right;\n",
       "    }\n",
       "</style>\n",
       "<table border=\"1\" class=\"dataframe\">\n",
       "  <thead>\n",
       "    <tr style=\"text-align: right;\">\n",
       "      <th></th>\n",
       "      <th>SibSp</th>\n",
       "      <th>Survived</th>\n",
       "    </tr>\n",
       "  </thead>\n",
       "  <tbody>\n",
       "    <tr>\n",
       "      <th>0</th>\n",
       "      <td>0</td>\n",
       "      <td>0.345395</td>\n",
       "    </tr>\n",
       "    <tr>\n",
       "      <th>1</th>\n",
       "      <td>1</td>\n",
       "      <td>0.535885</td>\n",
       "    </tr>\n",
       "    <tr>\n",
       "      <th>2</th>\n",
       "      <td>2</td>\n",
       "      <td>0.464286</td>\n",
       "    </tr>\n",
       "    <tr>\n",
       "      <th>3</th>\n",
       "      <td>3</td>\n",
       "      <td>0.250000</td>\n",
       "    </tr>\n",
       "    <tr>\n",
       "      <th>4</th>\n",
       "      <td>4</td>\n",
       "      <td>0.166667</td>\n",
       "    </tr>\n",
       "    <tr>\n",
       "      <th>5</th>\n",
       "      <td>5</td>\n",
       "      <td>0.000000</td>\n",
       "    </tr>\n",
       "    <tr>\n",
       "      <th>6</th>\n",
       "      <td>8</td>\n",
       "      <td>0.000000</td>\n",
       "    </tr>\n",
       "  </tbody>\n",
       "</table>\n",
       "</div>"
      ],
      "text/plain": [
       "   SibSp  Survived\n",
       "0      0  0.345395\n",
       "1      1  0.535885\n",
       "2      2  0.464286\n",
       "3      3  0.250000\n",
       "4      4  0.166667\n",
       "5      5  0.000000\n",
       "6      8  0.000000"
      ]
     },
     "execution_count": 11,
     "metadata": {},
     "output_type": "execute_result"
    }
   ],
   "source": [
    "sibsp_df=train_data[['SibSp','Survived']].groupby(['SibSp'],as_index=False).mean()\n",
    "sibsp_df"
   ]
  },
  {
   "cell_type": "code",
   "execution_count": 12,
   "metadata": {},
   "outputs": [
    {
     "data": {
      "image/png": "[encoded data removed]",
      "text/plain": [
       "<Figure size 432x288 with 1 Axes>"
      ]
     },
     "metadata": {},
     "output_type": "display_data"
    }
   ],
   "source": [
    "labels_sibsp=['0','1','2','3','4','5','8']\n",
    "sizes=[]\n",
    "colors = ['#ff9999','#66b3ff','#99ff99','green','red','purple','yellow']\n",
    "nan_sum=0\n",
    "for size in sibsp_df.Survived:\n",
    "    nan_sum+=size\n",
    "for size in sibsp_df.Survived:\n",
    "    sizes.append(size/nan_sum)\n",
    "fig1, ax1 = plt.subplots()\n",
    "ax1.pie(sizes,labels=labels_sibsp,autopct=\"%.2f %%\",colors=colors)\n",
    "\n",
    "#draw circle\n",
    "centre_circle = plt.Circle((0,0),0.80,fc='white',linewidth=1.5)\n",
    "fig = plt.gcf()\n",
    "fig.gca().add_artist(centre_circle)\n",
    "\n",
    "# Equal aspect ratio ensures that pie is drawn as a circle\n",
    "ax1.axis('equal')\n",
    "plt.tight_layout()\n",
    "plt.show()"
   ]
  },
  {
   "cell_type": "markdown",
   "metadata": {},
   "source": [
    ">>   WE CONCLUDE THAT HAVING ***1/2 sibling or spouse abroad the Titanic*** HAS ***VERY HIGH*** RATE OF SURVIVAL"
   ]
  },
  {
   "cell_type": "markdown",
   "metadata": {},
   "source": [
    "<h3> *RELATIONSHIP BETWEEN the number of parents / children aboard the Titanic AND SURVIVAL </h3>"
   ]
  },
  {
   "cell_type": "code",
   "execution_count": 13,
   "metadata": {},
   "outputs": [
    {
     "data": {
      "text/html": [
       "<div>\n",
       "<style scoped>\n",
       "    .dataframe tbody tr th:only-of-type {\n",
       "        vertical-align: middle;\n",
       "    }\n",
       "\n",
       "    .dataframe tbody tr th {\n",
       "        vertical-align: top;\n",
       "    }\n",
       "\n",
       "    .dataframe thead th {\n",
       "        text-align: right;\n",
       "    }\n",
       "</style>\n",
       "<table border=\"1\" class=\"dataframe\">\n",
       "  <thead>\n",
       "    <tr style=\"text-align: right;\">\n",
       "      <th></th>\n",
       "      <th>Parch</th>\n",
       "      <th>Survived</th>\n",
       "    </tr>\n",
       "  </thead>\n",
       "  <tbody>\n",
       "    <tr>\n",
       "      <th>0</th>\n",
       "      <td>0</td>\n",
       "      <td>0.343658</td>\n",
       "    </tr>\n",
       "    <tr>\n",
       "      <th>1</th>\n",
       "      <td>1</td>\n",
       "      <td>0.550847</td>\n",
       "    </tr>\n",
       "    <tr>\n",
       "      <th>2</th>\n",
       "      <td>2</td>\n",
       "      <td>0.500000</td>\n",
       "    </tr>\n",
       "    <tr>\n",
       "      <th>3</th>\n",
       "      <td>3</td>\n",
       "      <td>0.600000</td>\n",
       "    </tr>\n",
       "    <tr>\n",
       "      <th>4</th>\n",
       "      <td>4</td>\n",
       "      <td>0.000000</td>\n",
       "    </tr>\n",
       "    <tr>\n",
       "      <th>5</th>\n",
       "      <td>5</td>\n",
       "      <td>0.200000</td>\n",
       "    </tr>\n",
       "    <tr>\n",
       "      <th>6</th>\n",
       "      <td>6</td>\n",
       "      <td>0.000000</td>\n",
       "    </tr>\n",
       "  </tbody>\n",
       "</table>\n",
       "</div>"
      ],
      "text/plain": [
       "   Parch  Survived\n",
       "0      0  0.343658\n",
       "1      1  0.550847\n",
       "2      2  0.500000\n",
       "3      3  0.600000\n",
       "4      4  0.000000\n",
       "5      5  0.200000\n",
       "6      6  0.000000"
      ]
     },
     "execution_count": 13,
     "metadata": {},
     "output_type": "execute_result"
    }
   ],
   "source": [
    "parch_df=train_data[['Parch','Survived']].groupby(['Parch'],as_index=False).mean()\n",
    "parch_df"
   ]
  },
  {
   "cell_type": "code",
   "execution_count": 14,
   "metadata": {},
   "outputs": [
    {
     "data": {
      "image/png": "[encoded data removed]",
      "text/plain": [
       "<Figure size 432x288 with 1 Axes>"
      ]
     },
     "metadata": {},
     "output_type": "display_data"
    }
   ],
   "source": [
    "labels_parch=['0','1','2','3','4','5','6']\n",
    "sizes=[]\n",
    "colors = ['#ff9999','#66b3ff','#99ff99','green','red','pink','yellow']\n",
    "nan_sum=0\n",
    "for size in parch_df.Survived:\n",
    "    nan_sum+=size\n",
    "for size in parch_df.Survived:\n",
    "    sizes.append(size/nan_sum)\n",
    "fig1, ax1 = plt.subplots()\n",
    "ax1.pie(sizes,labels=labels_sibsp,autopct=\"%.2f %%\",colors=colors)\n",
    "\n",
    "#draw circle\n",
    "centre_circle = plt.Circle((0,0),0.80,fc='white',linewidth=1.5)\n",
    "fig = plt.gcf()\n",
    "fig.gca().add_artist(centre_circle)\n",
    "\n",
    "# Equal aspect ratio ensures that pie is drawn as a circle\n",
    "ax1.axis('equal')\n",
    "plt.tight_layout()\n",
    "plt.show()"
   ]
  },
  {
   "cell_type": "markdown",
   "metadata": {},
   "source": [
    ">>   WE CONCLUDE THAT HAVING ***1/2/3 children or parents abroad the Titanic*** HAS ***VERY HIGH*** RATE OF SURVIVAL"
   ]
  },
  {
   "cell_type": "markdown",
   "metadata": {},
   "source": [
    "<h3> *RELATIONSHIP BETWEEN AGE OF PASSENGER AND SURVIVAL </h3>"
   ]
  },
  {
   "cell_type": "code",
   "execution_count": 15,
   "metadata": {},
   "outputs": [
    {
     "name": "stdout",
     "output_type": "stream",
     "text": [
      "The size of training data that we have : 891\n",
      "The number of survived people examples in training data : 342\n",
      "The number of people not survived examples from training data : 549\n"
     ]
    }
   ],
   "source": [
    "print(\"The size of training data that we have :\",train_data.shape[0])\n",
    "\n",
    "y=(train_data.Survived==1)\n",
    "train_survived=train_data[y]\n",
    "train_survived.shape\n",
    "print(\"The number of survived people examples in training data :\",train_survived.shape[0])\n",
    "\n",
    "y=(train_data.Survived==0)\n",
    "train_not_survived=train_data[y]\n",
    "print(\"The number of people not survived examples from training data :\",train_not_survived.shape[0])\n",
    "\n",
    "max_age=train_data.Age.max()\n",
    "min_age=train_data.Age.min()"
   ]
  },
  {
   "cell_type": "code",
   "execution_count": 16,
   "metadata": {},
   "outputs": [
    {
     "name": "stdout",
     "output_type": "stream",
     "text": [
      "      Survived = 1            Survived = 0\n"
     ]
    },
    {
     "data": {
      "image/png": "[encoded data removed]",
      "text/plain": [
       "<Figure size 432x288 with 2 Axes>"
      ]
     },
     "metadata": {
      "needs_background": "light"
     },
     "output_type": "display_data"
    }
   ],
   "source": [
    "fig,axes=plt.subplots(1,2)\n",
    "bin_width=10\n",
    "axes[0].hist(x=train_survived.Age,bins=range(int(min_age),int(max_age+bin_width),bin_width),cumulative=False,histtype='bar',color='green',alpha=1,rwidth=0.8) # alpha is for opaqueness of bar graph\n",
    "axes[0].xticks=[0,20,40,60,80]\n",
    "axes[1].hist(x=train_not_survived.Age,bins=range(int(min_age),int(max_age+bin_width),bin_width),cumulative=False,histtype='bar',color='blue',alpha=1,rwidth=0.8) # alpha is for opaqueness of bar graph\n",
    "print('      Survived = 1','          ','Survived = 0')"
   ]
  },
  {
   "cell_type": "markdown",
   "metadata": {},
   "source": [
    "## For Ages between 0 and 5"
   ]
  },
  {
   "cell_type": "code",
   "execution_count": 17,
   "metadata": {},
   "outputs": [
    {
     "data": {
      "image/png": "[encoded data removed]",
      "text/plain": [
       "<Figure size 432x288 with 1 Axes>"
      ]
     },
     "metadata": {},
     "output_type": "display_data"
    }
   ],
   "source": [
    "ages_0to15 = train_data[(train_data.Age>=0) & (train_data.Age<=5)]\n",
    "ages_0to15_survived=(ages_0to15.Survived==1)\n",
    "ages_0to15_not_survived=(ages_0to15.Survived==0)\n",
    "num_survived=ages_0to15[ages_0to15_survived].shape[0]\n",
    "num_not_survived=ages_0to15[ages_0to15_not_survived].shape[0]\n",
    "num_survived,num_not_survived\n",
    "total=num_survived+num_not_survived\n",
    "sizes=[num_survived/total,num_not_survived/total]\n",
    "plt.pie(sizes,labels=['Survived','Not Survived'],autopct=\"%.2f %%\",colors=['#98FB98','000080'])\n",
    "plt.show()"
   ]
  },
  {
   "cell_type": "markdown",
   "metadata": {},
   "source": [
    ">>   Around ***71%*** children aged between ***0 and 5*** have ***Survived*** "
   ]
  },
  {
   "cell_type": "markdown",
   "metadata": {},
   "source": [
    "## For Ages between 15 and 25"
   ]
  },
  {
   "cell_type": "code",
   "execution_count": 18,
   "metadata": {},
   "outputs": [
    {
     "data": {
      "image/png": "[encoded data removed]",
      "text/plain": [
       "<Figure size 432x288 with 1 Axes>"
      ]
     },
     "metadata": {},
     "output_type": "display_data"
    }
   ],
   "source": [
    "ages_0to15 = train_data[(train_data.Age>=15) & (train_data.Age<=25)]\n",
    "ages_0to15_survived=(ages_0to15.Survived==1)\n",
    "ages_0to15_not_survived=(ages_0to15.Survived==0)\n",
    "num_survived=ages_0to15[ages_0to15_survived].shape[0]\n",
    "num_not_survived=ages_0to15[ages_0to15_not_survived].shape[0]\n",
    "num_survived,num_not_survived\n",
    "total=num_survived+num_not_survived\n",
    "sizes=[num_survived/total,num_not_survived/total]\n",
    "plt.pie(sizes,labels=['Survived','Not Survived'],autopct=\"%.2f %%\",colors=['#98FB98','000080'])\n",
    "plt.show()"
   ]
  },
  {
   "cell_type": "markdown",
   "metadata": {},
   "source": [
    ">>   Around ***65%*** people aged between ***15 and 25 did not survive*** "
   ]
  },
  {
   "cell_type": "markdown",
   "metadata": {},
   "source": [
    "## For Ages between 25 and 50"
   ]
  },
  {
   "cell_type": "code",
   "execution_count": 19,
   "metadata": {},
   "outputs": [
    {
     "data": {
      "image/png": "[encoded data removed]",
      "text/plain": [
       "<Figure size 432x288 with 1 Axes>"
      ]
     },
     "metadata": {},
     "output_type": "display_data"
    }
   ],
   "source": [
    "ages_0to15 = train_data[(train_data.Age>=25) & (train_data.Age<=50)]\n",
    "ages_0to15_survived=(ages_0to15.Survived==1)\n",
    "ages_0to15_not_survived=(ages_0to15.Survived==0)\n",
    "num_survived=ages_0to15[ages_0to15_survived].shape[0]\n",
    "num_not_survived=ages_0to15[ages_0to15_not_survived].shape[0]\n",
    "num_survived,num_not_survived\n",
    "total=num_survived+num_not_survived\n",
    "sizes=[num_survived/total,num_not_survived/total]\n",
    "plt.pie(sizes,labels=['Survived','Not Survived'],autopct=\"%.2f %%\",colors=['#98FB98','000080'])\n",
    "plt.show()"
   ]
  },
  {
   "cell_type": "markdown",
   "metadata": {},
   "source": [
    ">>   Around ***60%*** people aged between ***25 and 50 did not survive*** "
   ]
  },
  {
   "cell_type": "markdown",
   "metadata": {},
   "source": [
    "## For Ages between 60 and 80"
   ]
  },
  {
   "cell_type": "code",
   "execution_count": 20,
   "metadata": {},
   "outputs": [
    {
     "data": {
      "image/png": "[encoded data removed]",
      "text/plain": [
       "<Figure size 432x288 with 1 Axes>"
      ]
     },
     "metadata": {},
     "output_type": "display_data"
    }
   ],
   "source": [
    "ages_0to15 = train_data[(train_data.Age>=60) & (train_data.Age<=80)]\n",
    "ages_0to15_survived=(ages_0to15.Survived==1)\n",
    "ages_0to15_not_survived=(ages_0to15.Survived==0)\n",
    "num_survived=ages_0to15[ages_0to15_survived].shape[0]\n",
    "num_not_survived=ages_0to15[ages_0to15_not_survived].shape[0]\n",
    "num_survived,num_not_survived\n",
    "total=num_survived+num_not_survived\n",
    "sizes=[num_survived/total,num_not_survived/total]\n",
    "plt.pie(sizes,labels=['Survived','Not Survived'],autopct=\"%.2f %%\",colors=['#98FB98','000080'])\n",
    "plt.show()"
   ]
  },
  {
   "cell_type": "markdown",
   "metadata": {},
   "source": [
    ">>   Around ***73%*** people aged between ***60 and 80 did not survive*** "
   ]
  },
  {
   "cell_type": "markdown",
   "metadata": {},
   "source": [
    "# DATA CLEANING"
   ]
  },
  {
   "cell_type": "code",
   "execution_count": 21,
   "metadata": {
    "scrolled": true
   },
   "outputs": [
    {
     "data": {
      "text/html": [
       "<div>\n",
       "<style scoped>\n",
       "    .dataframe tbody tr th:only-of-type {\n",
       "        vertical-align: middle;\n",
       "    }\n",
       "\n",
       "    .dataframe tbody tr th {\n",
       "        vertical-align: top;\n",
       "    }\n",
       "\n",
       "    .dataframe thead th {\n",
       "        text-align: right;\n",
       "    }\n",
       "</style>\n",
       "<table border=\"1\" class=\"dataframe\">\n",
       "  <thead>\n",
       "    <tr style=\"text-align: right;\">\n",
       "      <th></th>\n",
       "      <th>PassengerId</th>\n",
       "      <th>Survived</th>\n",
       "      <th>Pclass</th>\n",
       "      <th>Name</th>\n",
       "      <th>Sex</th>\n",
       "      <th>Age</th>\n",
       "      <th>SibSp</th>\n",
       "      <th>Parch</th>\n",
       "      <th>Ticket</th>\n",
       "      <th>Fare</th>\n",
       "      <th>Cabin</th>\n",
       "      <th>Embarked</th>\n",
       "    </tr>\n",
       "  </thead>\n",
       "  <tbody>\n",
       "    <tr>\n",
       "      <th>0</th>\n",
       "      <td>1</td>\n",
       "      <td>0</td>\n",
       "      <td>3</td>\n",
       "      <td>Braund, Mr. Owen Harris</td>\n",
       "      <td>male</td>\n",
       "      <td>22.0</td>\n",
       "      <td>1</td>\n",
       "      <td>0</td>\n",
       "      <td>A/5 21171</td>\n",
       "      <td>7.2500</td>\n",
       "      <td>NaN</td>\n",
       "      <td>S</td>\n",
       "    </tr>\n",
       "    <tr>\n",
       "      <th>1</th>\n",
       "      <td>2</td>\n",
       "      <td>1</td>\n",
       "      <td>1</td>\n",
       "      <td>Cumings, Mrs. John Bradley (Florence Briggs Th...</td>\n",
       "      <td>female</td>\n",
       "      <td>38.0</td>\n",
       "      <td>1</td>\n",
       "      <td>0</td>\n",
       "      <td>PC 17599</td>\n",
       "      <td>71.2833</td>\n",
       "      <td>C85</td>\n",
       "      <td>C</td>\n",
       "    </tr>\n",
       "    <tr>\n",
       "      <th>2</th>\n",
       "      <td>3</td>\n",
       "      <td>1</td>\n",
       "      <td>3</td>\n",
       "      <td>Heikkinen, Miss. Laina</td>\n",
       "      <td>female</td>\n",
       "      <td>26.0</td>\n",
       "      <td>0</td>\n",
       "      <td>0</td>\n",
       "      <td>STON/O2. 3101282</td>\n",
       "      <td>7.9250</td>\n",
       "      <td>NaN</td>\n",
       "      <td>S</td>\n",
       "    </tr>\n",
       "    <tr>\n",
       "      <th>3</th>\n",
       "      <td>4</td>\n",
       "      <td>1</td>\n",
       "      <td>1</td>\n",
       "      <td>Futrelle, Mrs. Jacques Heath (Lily May Peel)</td>\n",
       "      <td>female</td>\n",
       "      <td>35.0</td>\n",
       "      <td>1</td>\n",
       "      <td>0</td>\n",
       "      <td>113803</td>\n",
       "      <td>53.1000</td>\n",
       "      <td>C123</td>\n",
       "      <td>S</td>\n",
       "    </tr>\n",
       "    <tr>\n",
       "      <th>4</th>\n",
       "      <td>5</td>\n",
       "      <td>0</td>\n",
       "      <td>3</td>\n",
       "      <td>Allen, Mr. William Henry</td>\n",
       "      <td>male</td>\n",
       "      <td>35.0</td>\n",
       "      <td>0</td>\n",
       "      <td>0</td>\n",
       "      <td>373450</td>\n",
       "      <td>8.0500</td>\n",
       "      <td>NaN</td>\n",
       "      <td>S</td>\n",
       "    </tr>\n",
       "  </tbody>\n",
       "</table>\n",
       "</div>"
      ],
      "text/plain": [
       "   PassengerId  Survived  Pclass  \\\n",
       "0            1         0       3   \n",
       "1            2         1       1   \n",
       "2            3         1       3   \n",
       "3            4         1       1   \n",
       "4            5         0       3   \n",
       "\n",
       "                                                Name     Sex   Age  SibSp  \\\n",
       "0                            Braund, Mr. Owen Harris    male  22.0      1   \n",
       "1  Cumings, Mrs. John Bradley (Florence Briggs Th...  female  38.0      1   \n",
       "2                             Heikkinen, Miss. Laina  female  26.0      0   \n",
       "3       Futrelle, Mrs. Jacques Heath (Lily May Peel)  female  35.0      1   \n",
       "4                           Allen, Mr. William Henry    male  35.0      0   \n",
       "\n",
       "   Parch            Ticket     Fare Cabin Embarked  \n",
       "0      0         A/5 21171   7.2500   NaN        S  \n",
       "1      0          PC 17599  71.2833   C85        C  \n",
       "2      0  STON/O2. 3101282   7.9250   NaN        S  \n",
       "3      0            113803  53.1000  C123        S  \n",
       "4      0            373450   8.0500   NaN        S  "
      ]
     },
     "execution_count": 21,
     "metadata": {},
     "output_type": "execute_result"
    }
   ],
   "source": [
    "data_copy.head()"
   ]
  },
  {
   "cell_type": "code",
   "execution_count": 22,
   "metadata": {},
   "outputs": [
    {
     "data": {
      "text/plain": [
       "PassengerId      0\n",
       "Survived         0\n",
       "Pclass           0\n",
       "Name             0\n",
       "Sex              0\n",
       "Age            177\n",
       "SibSp            0\n",
       "Parch            0\n",
       "Ticket           0\n",
       "Fare             0\n",
       "Cabin          687\n",
       "Embarked         2\n",
       "dtype: int64"
      ]
     },
     "execution_count": 22,
     "metadata": {},
     "output_type": "execute_result"
    }
   ],
   "source": [
    "data_copy.isnull().sum()"
   ]
  },
  {
   "cell_type": "code",
   "execution_count": 23,
   "metadata": {},
   "outputs": [],
   "source": [
    "del data_copy['PassengerId']\n",
    "del data_copy['Name']\n",
    "del data_copy['Ticket']\n",
    "del data_copy['Cabin']\n",
    "del data_copy['Fare']\n",
    "del test_copy['PassengerId']\n",
    "del test_copy['Name']\n",
    "del test_copy['Ticket']\n",
    "del test_copy['Cabin']\n",
    "del test_copy['Fare']"
   ]
  },
  {
   "cell_type": "code",
   "execution_count": 24,
   "metadata": {},
   "outputs": [],
   "source": [
    "data_copy.Age.fillna(data_copy.Age.mean(),inplace=True)\n",
    "data_copy.Embarked.fillna(data_copy.Embarked.mode()[0],inplace=True)\n",
    "test_copy.Age.fillna(data_copy.Age.mean(),inplace=True)\n",
    "test_copy.Embarked.fillna(data_copy.Embarked.mode()[0],inplace=True)"
   ]
  },
  {
   "cell_type": "code",
   "execution_count": 25,
   "metadata": {},
   "outputs": [],
   "source": [
    "def evalGender(gender):\n",
    "    if gender=='male':\n",
    "        return 1\n",
    "    return 0"
   ]
  },
  {
   "cell_type": "code",
   "execution_count": 26,
   "metadata": {},
   "outputs": [],
   "source": [
    "data_copy['Sex'] = [evalGender(gender) for gender in data_copy['Sex']] \n",
    "test_copy['Sex'] = [evalGender(gender) for gender in test_copy['Sex']] "
   ]
  },
  {
   "cell_type": "code",
   "execution_count": 27,
   "metadata": {},
   "outputs": [],
   "source": [
    "dummies=[]\n",
    "cols=[\"Pclass\",\"Embarked\"]\n",
    "for col in cols:\n",
    "    dummies.append(pd.get_dummies(data_copy[col]))\n",
    "all_dummies=pd.concat(dummies,axis=1)\n",
    "data_copy=pd.concat((all_dummies,data_copy),axis=1)\n",
    "\n",
    "dummies=[]\n",
    "cols=[\"Pclass\",\"Embarked\"]\n",
    "for col in cols:\n",
    "    dummies.append(pd.get_dummies(test_copy[col]))\n",
    "all_dummies_test=pd.concat(dummies,axis=1)\n",
    "test_copy=pd.concat((all_dummies_test,test_copy),axis=1)"
   ]
  },
  {
   "cell_type": "code",
   "execution_count": 28,
   "metadata": {},
   "outputs": [],
   "source": [
    "del data_copy[\"Embarked\"]\n",
    "del data_copy[\"Pclass\"]\n",
    "del test_copy[\"Embarked\"]\n",
    "del test_copy[\"Pclass\"]"
   ]
  },
  {
   "cell_type": "code",
   "execution_count": 29,
   "metadata": {},
   "outputs": [],
   "source": [
    "del data_copy[\"SibSp\"]\n",
    "del data_copy[\"Parch\"]\n",
    "del test_copy[\"SibSp\"]\n",
    "del test_copy[\"Parch\"]"
   ]
  },
  {
   "cell_type": "code",
   "execution_count": 30,
   "metadata": {},
   "outputs": [],
   "source": [
    "Y_train=data_copy[\"Survived\"]\n",
    "del data_copy[\"Survived\"]\n",
    "X_train=data_copy.values\n",
    "X_test=test_copy.values"
   ]
  },
  {
   "cell_type": "code",
   "execution_count": 31,
   "metadata": {},
   "outputs": [],
   "source": [
    "from sklearn.preprocessing import MinMaxScaler\n",
    "scaler=MinMaxScaler()\n",
    "X_train=scaler.fit_transform(X_train)\n",
    "X_test=scaler.transform(X_test)"
   ]
  },
  {
   "cell_type": "code",
   "execution_count": 32,
   "metadata": {},
   "outputs": [
    {
     "name": "stderr",
     "output_type": "stream",
     "text": [
      "/home/tanishqsaluja/anaconda3/envs/py36/lib/python3.6/site-packages/sklearn/linear_model/logistic.py:432: FutureWarning: Default solver will be changed to 'lbfgs' in 0.22. Specify a solver to silence this warning.\n",
      "  FutureWarning)\n"
     ]
    },
    {
     "data": {
      "text/plain": [
       "0.7934904601571269"
      ]
     },
     "execution_count": 32,
     "metadata": {},
     "output_type": "execute_result"
    }
   ],
   "source": [
    "from sklearn.linear_model import LogisticRegression\n",
    "clf=LogisticRegression()\n",
    "clf.fit(X_train,Y_train)\n",
    "clf.score(X_train,Y_train)"
   ]
  },
  {
   "cell_type": "code",
   "execution_count": 33,
   "metadata": {},
   "outputs": [
    {
     "name": "stderr",
     "output_type": "stream",
     "text": [
      "Using TensorFlow backend.\n"
     ]
    }
   ],
   "source": [
    "from keras.models import Sequential\n",
    "from keras.layers import Dense"
   ]
  },
  {
   "cell_type": "code",
   "execution_count": 41,
   "metadata": {},
   "outputs": [],
   "source": [
    "model = Sequential()"
   ]
  },
  {
   "cell_type": "code",
   "execution_count": 42,
   "metadata": {},
   "outputs": [],
   "source": [
    "# Add the layers\n",
    "layer1 = Dense(units=32,activation='relu',input_dim=8)\n",
    "model.add(layer1)\n",
    "model.add(Dense(units=16,activation='relu'))\n",
    "model.add(Dense(units=1,activation='sigmoid'))"
   ]
  },
  {
   "cell_type": "code",
   "execution_count": 43,
   "metadata": {},
   "outputs": [],
   "source": [
    "# Compile the model\n",
    "model.compile(optimizer='adam',loss='binary_crossentropy',metrics=['accuracy'])"
   ]
  },
  {
   "cell_type": "code",
   "execution_count": 44,
   "metadata": {},
   "outputs": [
    {
     "name": "stdout",
     "output_type": "stream",
     "text": [
      "Epoch 1/50\n",
      "891/891 [==============================] - 1s 2ms/step - loss: 0.6788 - acc: 0.5466\n",
      "Epoch 2/50\n",
      "891/891 [==============================] - 0s 28us/step - loss: 0.6329 - acc: 0.6712\n",
      "Epoch 3/50\n",
      "891/891 [==============================] - 0s 33us/step - loss: 0.5940 - acc: 0.6925\n",
      "Epoch 4/50\n",
      "891/891 [==============================] - 0s 25us/step - loss: 0.5589 - acc: 0.7508\n",
      "Epoch 5/50\n",
      "891/891 [==============================] - 0s 34us/step - loss: 0.5299 - acc: 0.7935\n",
      "Epoch 6/50\n",
      "891/891 [==============================] - 0s 35us/step - loss: 0.5068 - acc: 0.7890\n",
      "Epoch 7/50\n",
      "891/891 [==============================] - 0s 27us/step - loss: 0.4866 - acc: 0.8002\n",
      "Epoch 8/50\n",
      "891/891 [==============================] - 0s 25us/step - loss: 0.4709 - acc: 0.8081\n",
      "Epoch 9/50\n",
      "891/891 [==============================] - 0s 28us/step - loss: 0.4615 - acc: 0.8081\n",
      "Epoch 10/50\n",
      "891/891 [==============================] - 0s 28us/step - loss: 0.4531 - acc: 0.8047\n",
      "Epoch 11/50\n",
      "891/891 [==============================] - 0s 24us/step - loss: 0.4475 - acc: 0.8013\n",
      "Epoch 12/50\n",
      "891/891 [==============================] - 0s 33us/step - loss: 0.4441 - acc: 0.8114\n",
      "Epoch 13/50\n",
      "891/891 [==============================] - 0s 31us/step - loss: 0.4407 - acc: 0.8070\n",
      "Epoch 14/50\n",
      "891/891 [==============================] - 0s 22us/step - loss: 0.4367 - acc: 0.8070\n",
      "Epoch 15/50\n",
      "891/891 [==============================] - 0s 37us/step - loss: 0.4351 - acc: 0.8058\n",
      "Epoch 16/50\n",
      "891/891 [==============================] - 0s 30us/step - loss: 0.4330 - acc: 0.8070\n",
      "Epoch 17/50\n",
      "891/891 [==============================] - 0s 36us/step - loss: 0.4344 - acc: 0.8081\n",
      "Epoch 18/50\n",
      "891/891 [==============================] - 0s 31us/step - loss: 0.4308 - acc: 0.8114\n",
      "Epoch 19/50\n",
      "891/891 [==============================] - 0s 32us/step - loss: 0.4288 - acc: 0.8148\n",
      "Epoch 20/50\n",
      "891/891 [==============================] - 0s 40us/step - loss: 0.4286 - acc: 0.8137\n",
      "Epoch 21/50\n",
      "891/891 [==============================] - 0s 41us/step - loss: 0.4282 - acc: 0.8092\n",
      "Epoch 22/50\n",
      "891/891 [==============================] - 0s 30us/step - loss: 0.4266 - acc: 0.8159\n",
      "Epoch 23/50\n",
      "891/891 [==============================] - 0s 30us/step - loss: 0.4259 - acc: 0.8126\n",
      "Epoch 24/50\n",
      "891/891 [==============================] - 0s 27us/step - loss: 0.4252 - acc: 0.8137\n",
      "Epoch 25/50\n",
      "891/891 [==============================] - 0s 38us/step - loss: 0.4250 - acc: 0.8126\n",
      "Epoch 26/50\n",
      "891/891 [==============================] - 0s 33us/step - loss: 0.4267 - acc: 0.8114\n",
      "Epoch 27/50\n",
      "891/891 [==============================] - 0s 40us/step - loss: 0.4234 - acc: 0.8148\n",
      "Epoch 28/50\n",
      "891/891 [==============================] - 0s 40us/step - loss: 0.4226 - acc: 0.8171\n",
      "Epoch 29/50\n",
      "891/891 [==============================] - 0s 31us/step - loss: 0.4226 - acc: 0.8159\n",
      "Epoch 30/50\n",
      "891/891 [==============================] - 0s 30us/step - loss: 0.4220 - acc: 0.8137\n",
      "Epoch 31/50\n",
      "891/891 [==============================] - 0s 42us/step - loss: 0.4213 - acc: 0.8126\n",
      "Epoch 32/50\n",
      "891/891 [==============================] - 0s 37us/step - loss: 0.4210 - acc: 0.8148\n",
      "Epoch 33/50\n",
      "891/891 [==============================] - 0s 48us/step - loss: 0.4218 - acc: 0.8103\n",
      "Epoch 34/50\n",
      "891/891 [==============================] - 0s 51us/step - loss: 0.4202 - acc: 0.8114\n",
      "Epoch 35/50\n",
      "891/891 [==============================] - 0s 44us/step - loss: 0.4209 - acc: 0.8126\n",
      "Epoch 36/50\n",
      "891/891 [==============================] - 0s 46us/step - loss: 0.4205 - acc: 0.8126\n",
      "Epoch 37/50\n",
      "891/891 [==============================] - 0s 57us/step - loss: 0.4213 - acc: 0.8114\n",
      "Epoch 38/50\n",
      "891/891 [==============================] - 0s 58us/step - loss: 0.4187 - acc: 0.8137\n",
      "Epoch 39/50\n",
      "891/891 [==============================] - 0s 46us/step - loss: 0.4190 - acc: 0.8126\n",
      "Epoch 40/50\n",
      "891/891 [==============================] - 0s 42us/step - loss: 0.4192 - acc: 0.8114\n",
      "Epoch 41/50\n",
      "891/891 [==============================] - 0s 34us/step - loss: 0.4180 - acc: 0.8126\n",
      "Epoch 42/50\n",
      "891/891 [==============================] - 0s 33us/step - loss: 0.4181 - acc: 0.8137\n",
      "Epoch 43/50\n",
      "891/891 [==============================] - 0s 40us/step - loss: 0.4196 - acc: 0.8092\n",
      "Epoch 44/50\n",
      "891/891 [==============================] - 0s 36us/step - loss: 0.4199 - acc: 0.8171\n",
      "Epoch 45/50\n",
      "891/891 [==============================] - 0s 39us/step - loss: 0.4167 - acc: 0.8114\n",
      "Epoch 46/50\n",
      "891/891 [==============================] - 0s 27us/step - loss: 0.4180 - acc: 0.8114\n",
      "Epoch 47/50\n",
      "891/891 [==============================] - 0s 37us/step - loss: 0.4175 - acc: 0.8137\n",
      "Epoch 48/50\n",
      "891/891 [==============================] - 0s 31us/step - loss: 0.4172 - acc: 0.8126\n",
      "Epoch 49/50\n",
      "891/891 [==============================] - 0s 34us/step - loss: 0.4173 - acc: 0.8103\n",
      "Epoch 50/50\n",
      "891/891 [==============================] - 0s 31us/step - loss: 0.4162 - acc: 0.8148\n"
     ]
    },
    {
     "data": {
      "text/plain": [
       "<keras.callbacks.History at 0x7fe14e8ccb70>"
      ]
     },
     "execution_count": 44,
     "metadata": {},
     "output_type": "execute_result"
    }
   ],
   "source": [
    "# Fitting the model\n",
    "model.fit(X_train,Y_train,epochs=50,batch_size=50)"
   ]
  },
  {
   "cell_type": "code",
   "execution_count": 45,
   "metadata": {},
   "outputs": [
    {
     "name": "stdout",
     "output_type": "stream",
     "text": [
      "891/891 [==============================] - 0s 87us/step\n"
     ]
    },
    {
     "data": {
      "text/plain": [
       "[0.41507722850466683, 0.8170594832578759]"
      ]
     },
     "execution_count": 45,
     "metadata": {},
     "output_type": "execute_result"
    }
   ],
   "source": [
    "predictions = model.predict(X_test)\n",
    "model.evaluate(X_train,Y_train)"
   ]
  },
  {
   "cell_type": "code",
   "execution_count": 46,
   "metadata": {},
   "outputs": [],
   "source": [
    "import csv"
   ]
  },
  {
   "cell_type": "code",
   "execution_count": 47,
   "metadata": {},
   "outputs": [],
   "source": [
    "csv_file=open('Kaggle-Titanic-Predictions.csv','w')"
   ]
  },
  {
   "cell_type": "code",
   "execution_count": 48,
   "metadata": {},
   "outputs": [],
   "source": [
    "csv_writer=csv.writer(csv_file)"
   ]
  },
  {
   "cell_type": "code",
   "execution_count": 49,
   "metadata": {},
   "outputs": [
    {
     "data": {
      "text/plain": [
       "22"
      ]
     },
     "execution_count": 49,
     "metadata": {},
     "output_type": "execute_result"
    }
   ],
   "source": [
    "csv_writer.writerow(['PassengerId','Survived']) "
   ]
  },
  {
   "cell_type": "code",
   "execution_count": 50,
   "metadata": {},
   "outputs": [],
   "source": [
    "for id,pred in zip(pid,predictions):\n",
    "    val=0\n",
    "    if pred>=0.5:\n",
    "        val=1\n",
    "    else:\n",
    "        val=0\n",
    "    csv_writer.writerow([id,val])"
   ]
  },
  {
   "cell_type": "code",
   "execution_count": 51,
   "metadata": {},
   "outputs": [],
   "source": [
    "csv_file.close()"
   ]
  },
  {
   "cell_type": "code",
   "execution_count": null,
   "metadata": {},
   "outputs": [],
   "source": []
  },
  {
   "cell_type": "code",
   "execution_count": null,
   "metadata": {},
   "outputs": [],
   "source": []
  },
  {
   "cell_type": "code",
   "execution_count": null,
   "metadata": {},
   "outputs": [],
   "source": []
  },
  {
   "cell_type": "code",
   "execution_count": null,
   "metadata": {},
   "outputs": [],
   "source": []
  },
  {
   "cell_type": "code",
   "execution_count": null,
   "metadata": {},
   "outputs": [],
   "source": []
  },
  {
   "cell_type": "code",
   "execution_count": null,
   "metadata": {},
   "outputs": [],
   "source": []
  },
  {
   "cell_type": "code",
   "execution_count": null,
   "metadata": {},
   "outputs": [],
   "source": []
  }
 ],
 "metadata": {
  "kernelspec": {
   "display_name": "Python 3",
   "language": "python",
   "name": "python3"
  },
  "language_info": {
   "codemirror_mode": {
    "name": "ipython",
    "version": 3
   },
   "file_extension": ".py",
   "mimetype": "text/x-python",
   "name": "python",
   "nbconvert_exporter": "python",
   "pygments_lexer": "ipython3",
   "version": "3.6.6"
  }
 },
 "nbformat": 4,
 "nbformat_minor": 2
}
