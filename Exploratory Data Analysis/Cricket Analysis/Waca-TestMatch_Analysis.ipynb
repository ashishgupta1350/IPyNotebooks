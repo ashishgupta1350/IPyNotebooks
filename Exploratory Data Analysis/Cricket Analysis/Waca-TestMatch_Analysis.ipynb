{
 "cells": [
  {
   "cell_type": "code",
   "execution_count": 2,
   "metadata": {},
   "outputs": [],
   "source": [
    "import pandas as pd\n",
    "import matplotlib.pyplot as plt"
   ]
  },
  {
   "cell_type": "code",
   "execution_count": 3,
   "metadata": {},
   "outputs": [],
   "source": [
    "data=pd.read_csv('waca_test.csv')"
   ]
  },
  {
   "cell_type": "code",
   "execution_count": 4,
   "metadata": {},
   "outputs": [
    {
     "name": "stdout",
     "output_type": "stream",
     "text": [
      "Number of entries are :  85\n"
     ]
    },
    {
     "data": {
      "text/html": [
       "<div>\n",
       "<style scoped>\n",
       "    .dataframe tbody tr th:only-of-type {\n",
       "        vertical-align: middle;\n",
       "    }\n",
       "\n",
       "    .dataframe tbody tr th {\n",
       "        vertical-align: top;\n",
       "    }\n",
       "\n",
       "    .dataframe thead th {\n",
       "        text-align: right;\n",
       "    }\n",
       "</style>\n",
       "<table border=\"1\" class=\"dataframe\">\n",
       "  <thead>\n",
       "    <tr style=\"text-align: right;\">\n",
       "      <th></th>\n",
       "      <th>No.</th>\n",
       "      <th>Score</th>\n",
       "      <th>Player</th>\n",
       "      <th>Team</th>\n",
       "      <th>Balls</th>\n",
       "      <th>Inns.</th>\n",
       "      <th>Opposing team</th>\n",
       "      <th>Date</th>\n",
       "      <th>Result</th>\n",
       "    </tr>\n",
       "  </thead>\n",
       "  <tbody>\n",
       "    <tr>\n",
       "      <th>0</th>\n",
       "      <td>1</td>\n",
       "      <td>131</td>\n",
       "      <td>Luckhurst, BrianBrian Luckhurst</td>\n",
       "      <td>England</td>\n",
       "      <td>301</td>\n",
       "      <td>1</td>\n",
       "      <td>Australia</td>\n",
       "      <td>000000001970-12-11-000011 December 1970</td>\n",
       "      <td>Drawn</td>\n",
       "    </tr>\n",
       "    <tr>\n",
       "      <th>1</th>\n",
       "      <td>2</td>\n",
       "      <td>171</td>\n",
       "      <td>Redpath, IanIan Redpath</td>\n",
       "      <td>Australia</td>\n",
       "      <td>372</td>\n",
       "      <td>2</td>\n",
       "      <td>England</td>\n",
       "      <td>000000001970-12-11-000011 December 1970</td>\n",
       "      <td>Drawn</td>\n",
       "    </tr>\n",
       "    <tr>\n",
       "      <th>2</th>\n",
       "      <td>3</td>\n",
       "      <td>108</td>\n",
       "      <td>Chappell, GregGreg Chappell (1/2)</td>\n",
       "      <td>Australia</td>\n",
       "      <td>218</td>\n",
       "      <td>2</td>\n",
       "      <td>England</td>\n",
       "      <td>000000001970-12-11-000011 December 1970</td>\n",
       "      <td>Drawn</td>\n",
       "    </tr>\n",
       "    <tr>\n",
       "      <th>3</th>\n",
       "      <td>4</td>\n",
       "      <td>115</td>\n",
       "      <td>Edrich, JohnJohn Edrich</td>\n",
       "      <td>England</td>\n",
       "      <td>332</td>\n",
       "      <td>3</td>\n",
       "      <td>Australia</td>\n",
       "      <td>000000001970-12-11-000011 December 1970</td>\n",
       "      <td>Drawn</td>\n",
       "    </tr>\n",
       "    <tr>\n",
       "      <th>4</th>\n",
       "      <td>5</td>\n",
       "      <td>115</td>\n",
       "      <td>Edwards, RossRoss Edwards</td>\n",
       "      <td>Australia</td>\n",
       "      <td>252</td>\n",
       "      <td>2</td>\n",
       "      <td>England</td>\n",
       "      <td>000000001974-12-13-000013 December 1974</td>\n",
       "      <td>Won</td>\n",
       "    </tr>\n",
       "  </tbody>\n",
       "</table>\n",
       "</div>"
      ],
      "text/plain": [
       "   No.  Score                             Player       Team  Balls  Inns.  \\\n",
       "0    1    131    Luckhurst, BrianBrian Luckhurst    England    301      1   \n",
       "1    2    171            Redpath, IanIan Redpath  Australia    372      2   \n",
       "2    3    108  Chappell, GregGreg Chappell (1/2)  Australia    218      2   \n",
       "3    4    115            Edrich, JohnJohn Edrich    England    332      3   \n",
       "4    5    115          Edwards, RossRoss Edwards  Australia    252      2   \n",
       "\n",
       "  Opposing team                                     Date Result  \n",
       "0     Australia  000000001970-12-11-000011 December 1970  Drawn  \n",
       "1       England  000000001970-12-11-000011 December 1970  Drawn  \n",
       "2       England  000000001970-12-11-000011 December 1970  Drawn  \n",
       "3     Australia  000000001970-12-11-000011 December 1970  Drawn  \n",
       "4       England  000000001974-12-13-000013 December 1974    Won  "
      ]
     },
     "execution_count": 4,
     "metadata": {},
     "output_type": "execute_result"
    }
   ],
   "source": [
    "print(\"Number of entries are : \",data.shape[0])\n",
    "data.head() # To get view of first 5 data entries"
   ]
  },
  {
   "cell_type": "markdown",
   "metadata": {},
   "source": [
    "## 1. Number of centuries scored by each country at WACA"
   ]
  },
  {
   "cell_type": "code",
   "execution_count": 23,
   "metadata": {},
   "outputs": [
    {
     "data": {
      "image/png": "[encoded data removed]",
      "text/plain": [
       "<Figure size 720x720 with 1 Axes>"
      ]
     },
     "metadata": {
      "needs_background": "light"
     },
     "output_type": "display_data"
    }
   ],
   "source": [
    "plt.figure(figsize=(10,10)) # Specify the figure size beforehand\n",
    "\n",
    "# Grouping by Team on basis of count of centuries\n",
    "df=data[['No.','Team']].groupby(['Team'],as_index=False).count()\n",
    "y=df['No.']\n",
    "labels=df['Team']\n",
    "\n",
    "bar = plt.bar(labels,y,color = ['#b9d91d', '#1079ea', '#040766', '#020202', '#2ece0e', '#27824c', '#1c5470', '#a01c23'])\n",
    "plt.xticks(labels,rotation=45,fontweight=\"bold\")\n",
    "\n",
    "# Labelling our plot\n",
    "plt.title('Centuries by Country',fontsize=14,fontweight=\"bold\")\n",
    "plt.ylabel('Number of centuries',fontsize=12,fontweight=\"bold\")\n",
    "plt.xlabel('Country',fontsize=12,fontweight='bold')\n",
    "plt.tight_layout()\n",
    "\n",
    "\n",
    "# Displaying value for each bar\n",
    "for b in bar:\n",
    "    height = b.get_height()\n",
    "    #print(b.get_height(),b.get_x(),b.get_width()) get_x() gives starting position of the bar graph\n",
    "    plt.text(b.get_x()+b.get_width()/2,(height-1)/2,height,ha='center',va='bottom',fontweight=\"bold\",rotation=30,fontsize=10,color=\"white\")\n",
    "    \n",
    "plt.show()"
   ]
  },
  {
   "cell_type": "markdown",
   "metadata": {},
   "source": [
    "**Concluding ,** \n",
    "\n",
    "***Some interesting things to note are*** -\n",
    "\n",
    "   1. Indian batsman and Pakistani batsmen have equal centuries.\n",
    "   \n",
    "   2. Non subcontinent nations have more centuries than the subcontinent countries.\n"
   ]
  },
  {
   "cell_type": "markdown",
   "metadata": {},
   "source": [
    "# 2. Result when home batsman scores a century"
   ]
  },
  {
   "cell_type": "code",
   "execution_count": 64,
   "metadata": {},
   "outputs": [
    {
     "data": {
      "image/png": "[encoded data removed]",
      "text/plain": [
       "<Figure size 360x360 with 1 Axes>"
      ]
     },
     "metadata": {},
     "output_type": "display_data"
    }
   ],
   "source": [
    "plt.figure(figsize=(5,5))\n",
    "df=data[['No.','Score','Team','Result']]\n",
    "total_matches_in_which_centuries_were_scored=df[df.Team=='Australia'].shape[0]\n",
    "matches_won=len(df[(df.Team=='Australia') & (df.Result=='Won')])\n",
    "matches_drawn=len(df[(df.Team=='Australia') & (df.Result=='Drawn')])\n",
    "matches_lost=len(df[(df.Team=='Australia') & (df.Result=='Lost')])\n",
    "sizes=[matches_won/total_matches_in_which_centuries_were_scored,matches_drawn/total_matches_in_which_centuries_were_scored,matches_lost/total_matches_in_which_centuries_were_scored]\n",
    "labels=['Won','Drawn','Lost']\n",
    "plt.pie(sizes,labels=labels,autopct=\"%.2f %%\",colors=['#efd7c4','#77e863','#d689c8'],startangle=90)\n",
    "plt.axis('equal')\n",
    "plt.tight_layout()\n",
    "plt.title(\"Result for Home Team\", fontweight = \"bold\")\n",
    "plt.show()"
   ]
  },
  {
   "cell_type": "markdown",
   "metadata": {},
   "source": [
    "# 2. Result when away batsman scores a century"
   ]
  },
  {
   "cell_type": "code",
   "execution_count": 66,
   "metadata": {},
   "outputs": [
    {
     "data": {
      "image/png": "[encoded data removed]",
      "text/plain": [
       "<Figure size 360x360 with 1 Axes>"
      ]
     },
     "metadata": {},
     "output_type": "display_data"
    }
   ],
   "source": [
    "plt.figure(figsize=(5,5))\n",
    "df=data[['No.','Score','Team','Result']]\n",
    "total_matches_in_which_centuries_were_scored=df[df.Team!='Australia'].shape[0]\n",
    "matches_won=len(df[(df.Team!='Australia') & (df.Result=='Won')])\n",
    "matches_drawn=len(df[(df.Team!='Australia') & (df.Result=='Drawn')])\n",
    "matches_lost=len(df[(df.Team!='Australia') & (df.Result=='Lost')])\n",
    "sizes=[matches_won/total_matches_in_which_centuries_were_scored,matches_drawn/total_matches_in_which_centuries_were_scored,matches_lost/total_matches_in_which_centuries_were_scored]\n",
    "labels=['Won','Drawn','Lost']\n",
    "plt.pie(sizes,labels=labels,autopct=\"%.2f %%\",colors=['#ed2fc0','#77e863','#0f9971'],startangle=90)\n",
    "plt.axis('equal')\n",
    "plt.tight_layout()\n",
    "plt.title(\"Result for Away Team\", fontweight = \"bold\")\n",
    "plt.show()"
   ]
  },
  {
   "cell_type": "markdown",
   "metadata": {},
   "source": [
    "**Concluding ,** \n",
    "\n",
    "***Some interesting things to note are*** -\n",
    "\n",
    "   1. Once an Aussie scores a century there is ***70 %***  chance of them winning the match.\n",
    "   \n",
    "   2. Away team finds it difficult to win the match even after scoring a century just ***35 %***."
   ]
  },
  {
   "cell_type": "markdown",
   "metadata": {},
   "source": [
    "\n",
    "#  4. Centuries scored in different innings"
   ]
  },
  {
   "cell_type": "code",
   "execution_count": 181,
   "metadata": {},
   "outputs": [
    {
     "data": {
      "image/png": "[encoded data removed]",
      "text/plain": [
       "<Figure size 576x288 with 1 Axes>"
      ]
     },
     "metadata": {
      "needs_background": "light"
     },
     "output_type": "display_data"
    }
   ],
   "source": [
    "plt.figure(figsize=(8,4))\n",
    "#data.head()\n",
    "data[['No.','Inns.']].groupby(['Inns.']).groups\n",
    "inns_df=data[['No.','Inns.']].groupby(['Inns.'],as_index=False).count()\n",
    "inns_df\n",
    "x=inns_df['Inns.']\n",
    "y=inns_df['No.']\n",
    "bar = plt.bar(x,y,color = ['#0f9971', '#1079ea', '#040766', '#020202'])\n",
    "plt.xticks(x)\n",
    "\n",
    "for b in bar:\n",
    "    height=b.get_height()\n",
    "    plt.text(b.get_x()+b.get_width()/2,height/2,height,color=\"pink\",fontweight=\"bold\",ha=\"center\",va=\"bottom\",fontsize=20)\n",
    "\n",
    "plt.tight_layout()\n",
    "plt.title(\"Centuries scored in innings\",fontweight=\"bold\",fontsize=16)\n",
    "plt.xlabel(\"Innings\", fontweight = \"bold\")\n",
    "plt.ylabel(\"Number of Centuries\", fontweight = \"bold\")\n",
    "plt.show()"
   ]
  },
  {
   "cell_type": "markdown",
   "metadata": {},
   "source": [
    "**Concluding ,** \n",
    "\n",
    "***Some interesting things to note are*** -\n",
    "\n",
    "   * This is a very interesting trend, as generally the number of hundreds scored goes down with the innings #, but here the number is highest in 3rd innings, maybe due to the Aussie batsmen scoring tons on flat roads to set up big targets in recent times.\n",
    "   * A good distribution of centuries shows that pitch also does not deteriorate much over the course of the match. (sans 4th innings which is more about temprament)\n",
    "   * Lesser number of hundreds in the first and second innings also point to the fact that as the match goes on, the pitch becomes less bouncier, and hence easier to bat on.\n",
    "\n"
   ]
  },
  {
   "cell_type": "markdown",
   "metadata": {},
   "source": [
    "# 5. Strike rate by innings"
   ]
  },
  {
   "cell_type": "code",
   "execution_count": 155,
   "metadata": {},
   "outputs": [],
   "source": [
    "import numpy as np\n",
    "import warnings\n",
    "warnings.filterwarnings('ignore')"
   ]
  },
  {
   "cell_type": "code",
   "execution_count": 179,
   "metadata": {},
   "outputs": [
    {
     "data": {
      "image/png": "[encoded data removed]",
      "text/plain": [
       "<Figure size 432x288 with 1 Axes>"
      ]
     },
     "metadata": {
      "needs_background": "light"
     },
     "output_type": "display_data"
    },
    {
     "data": {
      "text/plain": [
       "<Figure size 432x288 with 0 Axes>"
      ]
     },
     "metadata": {},
     "output_type": "display_data"
    }
   ],
   "source": [
    "df=data[['No.','Inns.','Score','Balls']]\n",
    "df['StrikeRate']=df['Score']/df['Balls'] * 100\n",
    "df.sort_values('StrikeRate',ascending=False,inplace=True)\n",
    "sr_df=df[['StrikeRate','Inns.']].groupby(['Inns.'],as_index=False).mean()\n",
    "x=sr_df['Inns.']\n",
    "y=sr_df['StrikeRate']\n",
    "bar=plt.bar([1,2,3,4],y,color = ['#0f9971', '#1079ea', '#040766', '#020202'])\n",
    "plt.xticks([1,2,3,4])\n",
    "\n",
    "for b in bar:\n",
    "    height=b.get_height()\n",
    "    plt.text(b.get_x()+b.get_width()/2,height/2,round(height,3),color=\"white\",va=\"bottom\",ha=\"center\",fontweight=\"bold\")\n",
    "    \n",
    "plt.title(\"Strike Rate vs Innings\", fontsize = 14, fontweight = \"bold\")\n",
    "plt.xlabel(\"Innings\", fontweight = \"bold\")\n",
    "plt.ylabel(\"Strike Rate\", fontweight = \"bold\")\n",
    "plt.show()\n",
    "plt.tight_layout()\n",
    "plt.show()"
   ]
  },
  {
   "cell_type": "markdown",
   "metadata": {},
   "source": [
    "**Concluding ,** \n",
    "\n",
    "***Some interesting things to note are*** -\n",
    "\n",
    "* Strike Rates in the first 3 innings are almost equal, so the conditions to bat remain almost the same in the initial phases of the match.\n",
    "* It takes a dip in the last innings, which implies that either the conditions get tougher to bat in, or most batsmen play prefer to play out a draw.\n",
    "\n"
   ]
  },
  {
   "cell_type": "markdown",
   "metadata": {},
   "source": [
    "# 6. Conversion into big final scores"
   ]
  },
  {
   "cell_type": "code",
   "execution_count": 182,
   "metadata": {},
   "outputs": [
    {
     "data": {
      "text/html": [
       "<div>\n",
       "<style scoped>\n",
       "    .dataframe tbody tr th:only-of-type {\n",
       "        vertical-align: middle;\n",
       "    }\n",
       "\n",
       "    .dataframe tbody tr th {\n",
       "        vertical-align: top;\n",
       "    }\n",
       "\n",
       "    .dataframe thead th {\n",
       "        text-align: right;\n",
       "    }\n",
       "</style>\n",
       "<table border=\"1\" class=\"dataframe\">\n",
       "  <thead>\n",
       "    <tr style=\"text-align: right;\">\n",
       "      <th></th>\n",
       "      <th>No.</th>\n",
       "      <th>Score</th>\n",
       "      <th>Player</th>\n",
       "      <th>Team</th>\n",
       "      <th>Balls</th>\n",
       "      <th>Inns.</th>\n",
       "      <th>Opposing team</th>\n",
       "      <th>Date</th>\n",
       "      <th>Result</th>\n",
       "    </tr>\n",
       "  </thead>\n",
       "  <tbody>\n",
       "    <tr>\n",
       "      <th>0</th>\n",
       "      <td>1</td>\n",
       "      <td>131</td>\n",
       "      <td>Luckhurst, BrianBrian Luckhurst</td>\n",
       "      <td>England</td>\n",
       "      <td>301</td>\n",
       "      <td>1</td>\n",
       "      <td>Australia</td>\n",
       "      <td>000000001970-12-11-000011 December 1970</td>\n",
       "      <td>Drawn</td>\n",
       "    </tr>\n",
       "    <tr>\n",
       "      <th>1</th>\n",
       "      <td>2</td>\n",
       "      <td>171</td>\n",
       "      <td>Redpath, IanIan Redpath</td>\n",
       "      <td>Australia</td>\n",
       "      <td>372</td>\n",
       "      <td>2</td>\n",
       "      <td>England</td>\n",
       "      <td>000000001970-12-11-000011 December 1970</td>\n",
       "      <td>Drawn</td>\n",
       "    </tr>\n",
       "    <tr>\n",
       "      <th>2</th>\n",
       "      <td>3</td>\n",
       "      <td>108</td>\n",
       "      <td>Chappell, GregGreg Chappell (1/2)</td>\n",
       "      <td>Australia</td>\n",
       "      <td>218</td>\n",
       "      <td>2</td>\n",
       "      <td>England</td>\n",
       "      <td>000000001970-12-11-000011 December 1970</td>\n",
       "      <td>Drawn</td>\n",
       "    </tr>\n",
       "    <tr>\n",
       "      <th>3</th>\n",
       "      <td>4</td>\n",
       "      <td>115</td>\n",
       "      <td>Edrich, JohnJohn Edrich</td>\n",
       "      <td>England</td>\n",
       "      <td>332</td>\n",
       "      <td>3</td>\n",
       "      <td>Australia</td>\n",
       "      <td>000000001970-12-11-000011 December 1970</td>\n",
       "      <td>Drawn</td>\n",
       "    </tr>\n",
       "    <tr>\n",
       "      <th>4</th>\n",
       "      <td>5</td>\n",
       "      <td>115</td>\n",
       "      <td>Edwards, RossRoss Edwards</td>\n",
       "      <td>Australia</td>\n",
       "      <td>252</td>\n",
       "      <td>2</td>\n",
       "      <td>England</td>\n",
       "      <td>000000001974-12-13-000013 December 1974</td>\n",
       "      <td>Won</td>\n",
       "    </tr>\n",
       "  </tbody>\n",
       "</table>\n",
       "</div>"
      ],
      "text/plain": [
       "   No.  Score                             Player       Team  Balls  Inns.  \\\n",
       "0    1    131    Luckhurst, BrianBrian Luckhurst    England    301      1   \n",
       "1    2    171            Redpath, IanIan Redpath  Australia    372      2   \n",
       "2    3    108  Chappell, GregGreg Chappell (1/2)  Australia    218      2   \n",
       "3    4    115            Edrich, JohnJohn Edrich    England    332      3   \n",
       "4    5    115          Edwards, RossRoss Edwards  Australia    252      2   \n",
       "\n",
       "  Opposing team                                     Date Result  \n",
       "0     Australia  000000001970-12-11-000011 December 1970  Drawn  \n",
       "1       England  000000001970-12-11-000011 December 1970  Drawn  \n",
       "2       England  000000001970-12-11-000011 December 1970  Drawn  \n",
       "3     Australia  000000001970-12-11-000011 December 1970  Drawn  \n",
       "4       England  000000001974-12-13-000013 December 1974    Won  "
      ]
     },
     "execution_count": 182,
     "metadata": {},
     "output_type": "execute_result"
    }
   ],
   "source": [
    "data.head()"
   ]
  },
  {
   "cell_type": "code",
   "execution_count": 190,
   "metadata": {},
   "outputs": [
    {
     "data": {
      "image/png": "[encoded data removed]",
      "text/plain": [
       "<Figure size 360x360 with 1 Axes>"
      ]
     },
     "metadata": {
      "needs_background": "light"
     },
     "output_type": "display_data"
    }
   ],
   "source": [
    "plt.figure(figsize=(5,5))\n",
    "plt.hist(data.Score,bins=[100,130,150,180,200,220,250,300,350,400])\n",
    "plt.title(\"Histogram of Final Score\", fontsize = 14, fontweight = \"bold\")\n",
    "plt.xlabel(\"Final Score\", fontweight = \"bold\")\n",
    "plt.ylabel(\"Occurences\", fontweight = \"bold\")\n",
    "plt.grid(True)\n",
    "plt.show()"
   ]
  },
  {
   "cell_type": "markdown",
   "metadata": {},
   "source": [
    "\n",
    "* WACA seems to be unfriendly for high scoring innings, as mot scores are between 100-150.\n",
    "* This is supported by the fact that Hayden's 380 came against a weak Zimbabwe, and the 2 scores between 250-300 were scored in the same match by Ross Taylor and David Warner. So on most occassions, WACA is still a tough wicket to last long on.\n",
    "\n"
   ]
  },
  {
   "cell_type": "code",
   "execution_count": 200,
   "metadata": {},
   "outputs": [
    {
     "data": {
      "text/plain": [
       "[380, 290, 253, 219, 203, 200]"
      ]
     },
     "execution_count": 200,
     "metadata": {},
     "output_type": "execute_result"
    }
   ],
   "source": [
    "sorted(data.Score,reverse=True)[0:6] # Top 6 scores"
   ]
  },
  {
   "cell_type": "code",
   "execution_count": null,
   "metadata": {},
   "outputs": [],
   "source": []
  },
  {
   "cell_type": "code",
   "execution_count": null,
   "metadata": {},
   "outputs": [],
   "source": []
  }
 ],
 "metadata": {
  "kernelspec": {
   "display_name": "Python 3",
   "language": "python",
   "name": "python3"
  },
  "language_info": {
   "codemirror_mode": {
    "name": "ipython",
    "version": 3
   },
   "file_extension": ".py",
   "mimetype": "text/x-python",
   "name": "python",
   "nbconvert_exporter": "python",
   "pygments_lexer": "ipython3",
   "version": "3.6.6"
  }
 },
 "nbformat": 4,
 "nbformat_minor": 2
}
