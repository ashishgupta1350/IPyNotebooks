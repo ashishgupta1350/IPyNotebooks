{
 "cells": [
  {
   "cell_type": "code",
   "execution_count": 2,
   "metadata": {},
   "outputs": [],
   "source": [
    "import tensorflow as tf"
   ]
  },
  {
   "cell_type": "code",
   "execution_count": 3,
   "metadata": {},
   "outputs": [
    {
     "name": "stdout",
     "output_type": "stream",
     "text": [
      "WARNING:tensorflow:From <ipython-input-3-56573b9c6b34>:2: read_data_sets (from tensorflow.contrib.learn.python.learn.datasets.mnist) is deprecated and will be removed in a future version.\n",
      "Instructions for updating:\n",
      "Please use alternatives such as official/mnist/dataset.py from tensorflow/models.\n",
      "WARNING:tensorflow:From /home/tanishqsaluja/.local/lib/python3.6/site-packages/tensorflow/contrib/learn/python/learn/datasets/mnist.py:260: maybe_download (from tensorflow.contrib.learn.python.learn.datasets.base) is deprecated and will be removed in a future version.\n",
      "Instructions for updating:\n",
      "Please write your own downloading logic.\n",
      "WARNING:tensorflow:From /home/tanishqsaluja/.local/lib/python3.6/site-packages/tensorflow/contrib/learn/python/learn/datasets/mnist.py:262: extract_images (from tensorflow.contrib.learn.python.learn.datasets.mnist) is deprecated and will be removed in a future version.\n",
      "Instructions for updating:\n",
      "Please use tf.data to implement this functionality.\n",
      "Extracting MNIST_data/train-images-idx3-ubyte.gz\n",
      "WARNING:tensorflow:From /home/tanishqsaluja/.local/lib/python3.6/site-packages/tensorflow/contrib/learn/python/learn/datasets/mnist.py:267: extract_labels (from tensorflow.contrib.learn.python.learn.datasets.mnist) is deprecated and will be removed in a future version.\n",
      "Instructions for updating:\n",
      "Please use tf.data to implement this functionality.\n",
      "Extracting MNIST_data/train-labels-idx1-ubyte.gz\n",
      "WARNING:tensorflow:From /home/tanishqsaluja/.local/lib/python3.6/site-packages/tensorflow/contrib/learn/python/learn/datasets/mnist.py:110: dense_to_one_hot (from tensorflow.contrib.learn.python.learn.datasets.mnist) is deprecated and will be removed in a future version.\n",
      "Instructions for updating:\n",
      "Please use tf.one_hot on tensors.\n",
      "Extracting MNIST_data/t10k-images-idx3-ubyte.gz\n",
      "Extracting MNIST_data/t10k-labels-idx1-ubyte.gz\n",
      "WARNING:tensorflow:From /home/tanishqsaluja/.local/lib/python3.6/site-packages/tensorflow/contrib/learn/python/learn/datasets/mnist.py:290: DataSet.__init__ (from tensorflow.contrib.learn.python.learn.datasets.mnist) is deprecated and will be removed in a future version.\n",
      "Instructions for updating:\n",
      "Please use alternatives such as official/mnist/dataset.py from tensorflow/models.\n"
     ]
    }
   ],
   "source": [
    "from tensorflow.examples.tutorials.mnist import input_data\n",
    "mnist = input_data.read_data_sets('MNIST_data/',one_hot=True)"
   ]
  },
  {
   "cell_type": "code",
   "execution_count": 4,
   "metadata": {},
   "outputs": [
    {
     "data": {
      "text/plain": [
       "<matplotlib.image.AxesImage at 0x7f0d4e23b048>"
      ]
     },
     "execution_count": 4,
     "metadata": {},
     "output_type": "execute_result"
    }
   ],
   "source": [
    "import matplotlib.pyplot as plt\n",
    "plt.imshow(mnist.train.images[1].reshape(28,28))"
   ]
  },
  {
   "cell_type": "code",
   "execution_count": 5,
   "metadata": {},
   "outputs": [],
   "source": [
    "input_width = 28\n",
    "input_height = 28\n",
    "input_channels = 1\n",
    "input_pixels = 784 \n",
    "\n",
    "n_conv1 = 32\n",
    "n_conv2 = 64\n",
    "stride_conv1 = 1 # Stride is the shifting factor of the filter that we apply on a group of pixels\n",
    "stride_conv2 = 1\n",
    "conv1_k = 5 # Filter1 dimensions\n",
    "conv2_k = 5 # Filter2 dimensions\n",
    "max_pool1_k = 2\n",
    "max_pool2_k = 2\n",
    "\n",
    "n_hidden = 1024\n",
    "n_out = 10\n",
    "\n",
    "input_size_to_hidden = (input_width//(max_pool1_k*max_pool2_k)) * (input_height//(max_pool1_k*max_pool2_k)) * n_conv2 "
   ]
  },
  {
   "cell_type": "code",
   "execution_count": 6,
   "metadata": {},
   "outputs": [],
   "source": [
    "# Parameters to be trained\n",
    "\n",
    "weights = {\n",
    "    # Weights that need to be trained for the first convolutional layer\n",
    "    'wc1' : tf.Variable(tf.random_normal([conv1_k,conv1_k,input_channels,n_conv1])),\n",
    "    # K * K * C is the dimension of the filter and K*K*C*n_conv1 is the number of parameters that we need to train for first convolutional layer\n",
    "    # Weights that need to be trained for the second convolutional layer\n",
    "    # We need not train any weights for the max pooling layer as it just reduce the size of the image and nothing else \n",
    "    'wc2' : tf.Variable(tf.random_normal([conv2_k,conv2_k,n_conv1,n_conv2])),\n",
    "    'wh1' : tf.Variable(tf.random_normal([input_size_to_hidden,n_hidden])),\n",
    "    'wo' : tf.Variable(tf.random_normal([n_hidden,n_out]))\n",
    "}\n",
    "\n",
    "biases = {\n",
    "    'bc1' : tf.Variable(tf.random_normal([n_conv1])),\n",
    "    'bc2' : tf.Variable(tf.random_normal([n_conv2])),\n",
    "    'bh1' : tf.Variable(tf.random_normal([n_hidden])),\n",
    "    'bo' : tf.Variable(tf.random_normal([n_out]))\n",
    "}"
   ]
  },
  {
   "cell_type": "code",
   "execution_count": 7,
   "metadata": {},
   "outputs": [],
   "source": [
    "def cnn(x,weights,biases,kprob):\n",
    "    # Reshape the input from 784 to 28*28*1\n",
    "    x = tf.reshape(x,shape=[-1,input_height,input_width,input_channels]) # -1 because it can infer the 4th argument itself\n",
    "    conv1 = conv(x,weights['wc1'],biases['bc1'],stride_conv1)\n",
    "    conv1_pool = maxpooling(conv1,max_pool1_k)\n",
    "    \n",
    "    conv2 = conv(conv1_pool,weights['wc2'],biases['bc2'],stride_conv2)\n",
    "    conv2_pool = maxpooling(conv2,max_pool2_k)\n",
    "    \n",
    "    hidden_input = tf.reshape(conv2_pool,[-1,input_size_to_hidden])\n",
    "    hidden_output_before_activation = tf.add(tf.matmul(hidden_input,weights['wh1']),biases['bh1'])\n",
    "    # hidden_output = tf.nn.relu(hidden_output_before_activation)\n",
    "    hidden_output_before_dropout = tf.nn.relu(hidden_output_before_activation)\n",
    "    hidden_output = tf.nn.dropout(hidden_output_before_dropout,keep_prob=kprob)\n",
    "    # While training keep_prob is <1 (eg 0.8) but while testing the keep_prob is 1\n",
    "    \n",
    "    \n",
    "    output = tf.add(tf.matmul(hidden_output,weights['wo']),biases['bo'])\n",
    "    return output # We haven't applied any activation function to the output layer"
   ]
  },
  {
   "cell_type": "code",
   "execution_count": 9,
   "metadata": {},
   "outputs": [],
   "source": [
    "def conv(x,weights,bias,strides = 1):\n",
    "    out = tf.nn.conv2d(x,weights,padding=\"SAME\",strides=[1,strides,strides,1]) # n_ex,height,width,depth(num_of_channels)\n",
    "    # strides = [] (some list) , this list should be of same shape as that of x passed\n",
    "    # These 4 numbers inside strides signify how we want to apply our filter once applied\n",
    "    # We are taking 1 image by 1 so we are taking first argument to be 1\n",
    "    out = tf.nn.bias_add(out,bias) # bias_add as it lets you add different dimension \n",
    "    out = tf.nn.relu(out)\n",
    "    return out\n",
    "\n",
    "def maxpooling(x,k = 2): # k is the max pooling window size\n",
    "    return tf.nn.max_pool(x,padding=\"SAME\",ksize=[1,k,k,1],strides=[1,k,k,1])\n",
    "    # ksize is the window size , it determines by how much we have to cover in every stride ,we cover k*k*1 every stride (depth is taken to be 1 as we don't move along the depth i.e we keep the depth to be fixed)\n",
    "    # strides tells us by what stride we have to move everytime , which is same as k "
   ]
  },
  {
   "cell_type": "code",
   "execution_count": 10,
   "metadata": {},
   "outputs": [],
   "source": [
    "x = tf.placeholder('float',[None,input_pixels])\n",
    "y = tf.placeholder(tf.int32,[None,n_out])\n",
    "kprob = tf.placeholder('float')\n",
    "pred = cnn(x,weights,biases,kprob)"
   ]
  },
  {
   "cell_type": "code",
   "execution_count": 11,
   "metadata": {},
   "outputs": [],
   "source": [
    "cost = tf.reduce_mean(tf.nn.softmax_cross_entropy_with_logits_v2(logits=pred,labels=y))"
   ]
  },
  {
   "cell_type": "code",
   "execution_count": 12,
   "metadata": {},
   "outputs": [],
   "source": [
    "optimizer = tf.train.AdamOptimizer(learning_rate=0.01)\n",
    "optimize = optimizer.minimize(cost)"
   ]
  },
  {
   "cell_type": "code",
   "execution_count": 13,
   "metadata": {},
   "outputs": [],
   "source": [
    "sess = tf.Session()\n",
    "sess.run(tf.global_variables_initializer())"
   ]
  },
  {
   "cell_type": "code",
   "execution_count": 14,
   "metadata": {},
   "outputs": [
    {
     "data": {
      "text/plain": [
       "[<tf.Variable 'Variable:0' shape=(5, 5, 1, 32) dtype=float32_ref>,\n",
       " <tf.Variable 'Variable_1:0' shape=(5, 5, 32, 64) dtype=float32_ref>,\n",
       " <tf.Variable 'Variable_2:0' shape=(3136, 1024) dtype=float32_ref>,\n",
       " <tf.Variable 'Variable_3:0' shape=(1024, 10) dtype=float32_ref>,\n",
       " <tf.Variable 'Variable_4:0' shape=(32,) dtype=float32_ref>,\n",
       " <tf.Variable 'Variable_5:0' shape=(64,) dtype=float32_ref>,\n",
       " <tf.Variable 'Variable_6:0' shape=(1024,) dtype=float32_ref>,\n",
       " <tf.Variable 'Variable_7:0' shape=(10,) dtype=float32_ref>]"
      ]
     },
     "execution_count": 14,
     "metadata": {},
     "output_type": "execute_result"
    }
   ],
   "source": [
    "tf.trainable_variables()"
   ]
  },
  {
   "cell_type": "code",
   "execution_count": 16,
   "metadata": {},
   "outputs": [
    {
     "name": "stdout",
     "output_type": "stream",
     "text": [
      "1265076.611101389\n",
      "36099.417926728725\n",
      "19281.34519947216\n",
      "13858.519828341156\n",
      "10277.11192503862\n",
      "8573.849303381518\n",
      "8045.883767451409\n",
      "7840.456589431392\n",
      "6291.549566016882\n",
      "5943.174045584639\n"
     ]
    }
   ],
   "source": [
    "batch_size=100\n",
    "for i in range(10):\n",
    "    num_batches=int(mnist.train.num_examples/batch_size)\n",
    "    total_cost = 0\n",
    "    for j in range(num_batches):\n",
    "        batch_x,batch_y = mnist.train.next_batch(batch_size)\n",
    "        c,_=sess.run([cost,optimize],feed_dict={x:batch_x,y:batch_y,kprob:0.8}) # keep_prob is for having a dropout layer\n",
    "        total_cost+=c\n",
    "    print(total_cost) # total cost seems to be higher at each point ,since we are summing multiple costs"
   ]
  },
  {
   "cell_type": "code",
   "execution_count": 18,
   "metadata": {},
   "outputs": [
    {
     "name": "stdout",
     "output_type": "stream",
     "text": [
      "Accuracy is : 98.03 %\n"
     ]
    }
   ],
   "source": [
    "# Find the maximum in y for each data point , because that is the digit that I am going to predict\n",
    "predictions = tf.arg_max(pred,1)\n",
    "correct_labels = tf.arg_max(y,1)\n",
    "correct_predictions = tf.equal(predictions,correct_labels)\n",
    "predictions_evaluated,correct_pred = sess.run([predictions,correct_predictions],feed_dict={x:mnist.test.images,y:mnist.test.labels,kprob:1})\n",
    "# feed_dict only need x as predictions depend only upon x and not on any other parameter\n",
    "predictions_evaluated,correct_pred # False mean wrong and True means right\n",
    "print(\"Accuracy is :\" ,correct_pred.sum()/len(mnist.test.labels) * 100,\"%\")"
   ]
  },
  {
   "cell_type": "code",
   "execution_count": null,
   "metadata": {},
   "outputs": [],
   "source": []
  },
  {
   "cell_type": "code",
   "execution_count": null,
   "metadata": {},
   "outputs": [],
   "source": []
  }
 ],
 "metadata": {
  "kernelspec": {
   "display_name": "Python 3",
   "language": "python",
   "name": "python3"
  },
  "language_info": {
   "codemirror_mode": {
    "name": "ipython",
    "version": 3
   },
   "file_extension": ".py",
   "mimetype": "text/x-python",
   "name": "python",
   "nbconvert_exporter": "python",
   "pygments_lexer": "ipython3",
   "version": "3.6.6"
  }
 },
 "nbformat": 4,
 "nbformat_minor": 2
}
