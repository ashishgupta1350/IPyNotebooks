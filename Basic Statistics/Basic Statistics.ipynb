{
 "cells": [
  {
   "cell_type": "code",
   "execution_count": 1,
   "metadata": {},
   "outputs": [
    {
     "name": "stdout",
     "output_type": "stream",
     "text": [
      "5\n",
      "4 1 3 10 9\n",
      "5.4\n",
      "4\n",
      "1\n"
     ]
    }
   ],
   "source": [
    "# Day 0: Mean, Median, and Mode\n",
    "def calculate_mean(n,l):\n",
    "    sum = 0\n",
    "    for i in l:\n",
    "        sum += i\n",
    "    print(round((sum/n),1))\n",
    "def calculate_median(n,l):\n",
    "    if n % 2 == 0 :\n",
    "        median = (l[int(n/2)]+l[int(n/2)-1])/2 \n",
    "    else :\n",
    "        median = l[int(n/2)] \n",
    "    print(round(median,1))\n",
    "def calculate_mode(n,l):\n",
    "    max_count = 0\n",
    "    mode = l[0]\n",
    "    for i in l:\n",
    "        curr_count = l.count(i)\n",
    "        if curr_count > max_count:\n",
    "            max_count=curr_count\n",
    "            mode = i\n",
    "    print(round(mode,1))\n",
    "    \n",
    "n = int(input())\n",
    "l = [int(i) for i in input().strip().split(\" \")]\n",
    "l.sort()\n",
    "calculate_mean(n,l)\n",
    "calculate_median(n,l)\n",
    "calculate_mode(n,l)"
   ]
  },
  {
   "cell_type": "code",
   "execution_count": 2,
   "metadata": {},
   "outputs": [
    {
     "name": "stdout",
     "output_type": "stream",
     "text": [
      "5\n",
      "9 8 2 1 12\n",
      "1 10 2 2 0\n",
      "6.3\n"
     ]
    }
   ],
   "source": [
    "# Day 0: Weighted Mean\n",
    "def weighted_mean(values,weights):\n",
    "    total = 0\n",
    "    n = len(values)\n",
    "    for i in range(n):\n",
    "        total += values[i]*weights[i]\n",
    "    print(round(total/sum(weights),1))\n",
    "n = int(input())\n",
    "values = [int(i) for i in input().strip().split(\" \")]\n",
    "weights = [int(i) for i in input().strip().split(\" \")]\n",
    "weighted_mean(values,weights)"
   ]
  },
  {
   "cell_type": "code",
   "execution_count": 3,
   "metadata": {},
   "outputs": [
    {
     "name": "stdout",
     "output_type": "stream",
     "text": [
      "5\n",
      "1 2 3 4 5\n",
      "1.4\n"
     ]
    }
   ],
   "source": [
    "# Day 1: Standard Deviation\n",
    "from math import sqrt\n",
    "def get_mean(n,l):\n",
    "    sum = 0\n",
    "    for i in l:\n",
    "        sum += i\n",
    "    return round((sum/n),1)\n",
    "\n",
    "def standard_deviation(values):\n",
    "    mean = get_mean(len(values),values)\n",
    "    total = 0\n",
    "    for i in values:\n",
    "        total += (i - mean)**2\n",
    "    print(round(sqrt(total/len(values)),1))\n",
    "\n",
    "n = len(input())\n",
    "l = [int(i) for i in input().strip().split(\" \")]\n",
    "standard_deviation(l)"
   ]
  },
  {
   "cell_type": "code",
   "execution_count": null,
   "metadata": {},
   "outputs": [],
   "source": [
    "# Day 1: Quartiles\n",
    "def calculate_median(n,l):\n",
    "    if n % 2 == 0 :\n",
    "        return int(round((l[int(n/2)]+l[int(n/2)-1])/2,0))\n",
    "    else :\n",
    "        return int(round(l[int(n/2)],0))\n",
    "    \n",
    "def calculate_quartiles(n,l):\n",
    "    q2 = calculate_median(n,l)\n",
    "    l1 = [i for i in l if i < q2]\n",
    "    l2 = [i for i in l if i > q2]\n",
    "    print(calculate_median(len(l1),l1))\n",
    "    print(q2)\n",
    "    print(calculate_median(len(l2),l2))\n",
    "    \n",
    "n = int(input())\n",
    "l = [int(i) for i in input().strip().split(\" \")]\n",
    "l.sort()\n",
    "calculate_quartiles(n,l)"
   ]
  },
  {
   "cell_type": "code",
   "execution_count": 8,
   "metadata": {},
   "outputs": [
    {
     "data": {
      "text/plain": [
       "[1, 2, 3]"
      ]
     },
     "execution_count": 8,
     "metadata": {},
     "output_type": "execute_result"
    }
   ],
   "source": [
    "l=[1,2,3,4,5,6,7]\n",
    "l[:3]"
   ]
  },
  {
   "cell_type": "code",
   "execution_count": null,
   "metadata": {},
   "outputs": [],
   "source": [
    "# Day 1: Interquartile Range\n",
    "def calculate_median(n,l):\n",
    "    if n % 2 == 0 :\n",
    "        return (l[int(n/2)]+l[int(n/2)-1])/2\n",
    "    else :\n",
    "        return l[int(n/2)]\n",
    "    \n",
    "def calculate_quartiles(n,l):\n",
    "    q2 = calculate_median(n,l)\n",
    "    if n%2==1:\n",
    "        mid=int(n/2)\n",
    "        l1=l[:mid]\n",
    "        l2=l[mid+1:]\n",
    "        q1=calculate_median(len(l1),l1)\n",
    "        q3=calculate_median(len(l2),l2)\n",
    "    else:\n",
    "        mid=int(n/2)\n",
    "        l1=l[:mid]\n",
    "        l2=l[mid:]\n",
    "        q1=calculate_median(len(l1),l1)\n",
    "        q3=calculate_median(len(l2),l2)\n",
    "    print(round(float(q3-q1),1))\n",
    "    \n",
    "n = int(input())\n",
    "l = [int(i) for i in input().strip().split(\" \")]\n",
    "f = [int(i) for i in input().strip().split(\" \")]\n",
    "modified_l = []\n",
    "for i in range(len(l)):\n",
    "    freq_current = f[i]\n",
    "    for j in range(freq_current):\n",
    "        modified_l.append(l[i])\n",
    "modified_l.sort()\n",
    "calculate_quartiles(len(modified_l),modified_l)"
   ]
  },
  {
   "cell_type": "code",
   "execution_count": 1,
   "metadata": {},
   "outputs": [
    {
     "name": "stdout",
     "output_type": "stream",
     "text": [
      "1.09 1\n",
      "0.696\n"
     ]
    }
   ],
   "source": [
    "# Day 4: Binomial Distribution I\n",
    "import math\n",
    "def fact(n):\n",
    "    return math.factorial(n)\n",
    "def prob(x,p,q,n):\n",
    "    result = float(fact(n)/(fact(x)*fact(n-x))) * pow(p,x) * pow(q,n-x)\n",
    "    return result\n",
    "l = [float(i) for i in input().strip().split(\" \")]\n",
    "gal = l[0]\n",
    "boi = l[1]\n",
    "q = float(1/sum(l))\n",
    "p = float(1 - q)\n",
    "n = 6\n",
    "x = 3\n",
    "answer = 0\n",
    "for i in range(3,7):\n",
    "    r = prob(i,p,q,n)\n",
    "    answer = answer + r\n",
    "print(round(answer,3))"
   ]
  },
  {
   "cell_type": "code",
   "execution_count": null,
   "metadata": {},
   "outputs": [],
   "source": []
  },
  {
   "cell_type": "code",
   "execution_count": null,
   "metadata": {},
   "outputs": [],
   "source": []
  },
  {
   "cell_type": "code",
   "execution_count": null,
   "metadata": {},
   "outputs": [],
   "source": []
  },
  {
   "cell_type": "code",
   "execution_count": null,
   "metadata": {},
   "outputs": [],
   "source": []
  },
  {
   "cell_type": "code",
   "execution_count": null,
   "metadata": {},
   "outputs": [],
   "source": []
  }
 ],
 "metadata": {
  "kernelspec": {
   "display_name": "Python 3",
   "language": "python",
   "name": "python3"
  },
  "language_info": {
   "codemirror_mode": {
    "name": "ipython",
    "version": 3
   },
   "file_extension": ".py",
   "mimetype": "text/x-python",
   "name": "python",
   "nbconvert_exporter": "python",
   "pygments_lexer": "ipython3",
   "version": "3.6.5"
  }
 },
 "nbformat": 4,
 "nbformat_minor": 2
}
